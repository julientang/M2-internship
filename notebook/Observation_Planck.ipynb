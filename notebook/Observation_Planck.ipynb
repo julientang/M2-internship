{
 "cells": [
  {
   "cell_type": "code",
   "execution_count": 1,
   "id": "35cf044a-94fb-47f6-acbf-65522e522ced",
   "metadata": {
    "tags": []
   },
   "outputs": [],
   "source": [
    "import os \n",
    "import sys\n",
    "\n",
    "import healpy as hp\n",
    "import matplotlib.pyplot as plt\n",
    "import numpy as np\n",
    "\n",
    "import toast"
   ]
  },
  {
   "cell_type": "code",
   "execution_count": 2,
   "id": "47025571-993d-40f0-8db9-fbefa4f7e394",
   "metadata": {
    "tags": []
   },
   "outputs": [],
   "source": [
    "import scipy.signal as si"
   ]
  },
  {
   "cell_type": "code",
   "execution_count": 3,
   "id": "67ad1a62-bedd-4b45-8f85-4f6d63c486ca",
   "metadata": {
    "tags": []
   },
   "outputs": [],
   "source": [
    "import pysm3\n",
    "import pysm3.units as usm"
   ]
  },
  {
   "cell_type": "code",
   "execution_count": 4,
   "id": "0f158b20-8b16-4020-9671-f98557a818c6",
   "metadata": {
    "tags": []
   },
   "outputs": [],
   "source": [
    "import skytools"
   ]
  },
  {
   "cell_type": "code",
   "execution_count": 5,
   "id": "d815b8f9-01b8-44ba-9868-fbecf8ef45bf",
   "metadata": {
    "tags": []
   },
   "outputs": [],
   "source": [
    "import astropy.units as u "
   ]
  },
  {
   "cell_type": "code",
   "execution_count": 6,
   "id": "615619c1-85e7-45b4-bd08-c8c094920b8e",
   "metadata": {
    "tags": []
   },
   "outputs": [],
   "source": [
    "env = toast.utils.Environment.get()\n",
    "comm, procs, rank = toast.get_world()\n",
    "nthread = os.environ[\"OMP_NUM_THREADS\"]"
   ]
  },
  {
   "cell_type": "code",
   "execution_count": 7,
   "id": "6db8c98d-bf8c-479d-8c02-e0d17f947027",
   "metadata": {
    "tags": []
   },
   "outputs": [
    {
     "name": "stdout",
     "output_type": "stream",
     "text": [
      "Memory usage (whole node)\n",
      "       total :  503.138 GB\n",
      "   available :  237.310 GB\n",
      "     percent :   52.800 % \n",
      "        used :  190.945 GB\n",
      "        free :   86.081 GB\n",
      "      active :   39.231 GB\n",
      "    inactive :  244.315 GB\n",
      "     buffers :  108.793 MB\n",
      "      cached :  226.005 GB\n",
      "      shared :   58.346 GB\n",
      "        slab :   97.043 GB\n",
      "\n"
     ]
    }
   ],
   "source": [
    "mem = toast.utils.memreport(msg=\"(whole node)\", comm=comm, silent=False)"
   ]
  },
  {
   "cell_type": "markdown",
   "id": "cdf869cf-d0ca-4c90-93a7-7e3ed0e40907",
   "metadata": {},
   "source": [
    "0. Read Planck map"
   ]
  },
  {
   "cell_type": "code",
   "execution_count": 8,
   "id": "d308d1ca-cd77-429e-a127-d93458e40d09",
   "metadata": {
    "tags": []
   },
   "outputs": [],
   "source": [
    "NSIDE = 512\n",
    "lmax = 2*NSIDE"
   ]
  },
  {
   "cell_type": "code",
   "execution_count": 9,
   "id": "6218a4fa-bda6-4421-8c8b-f30a38fb1a6d",
   "metadata": {
    "tags": []
   },
   "outputs": [],
   "source": [
    "planck_GC512 = hp.read_map(filename='planck_030_GC_512.FITS',field=None)"
   ]
  },
  {
   "cell_type": "markdown",
   "id": "2ad094de-0af7-4910-9a24-25a02ec60306",
   "metadata": {},
   "source": [
    "Create a telescope and corresponding pointing"
   ]
  },
  {
   "cell_type": "markdown",
   "id": "831ee0f2-cc57-45f3-9a0d-1cb7b4aed0ad",
   "metadata": {},
   "source": [
    "1. Start by creating a focalplane with a sample rate and number of detectors"
   ]
  },
  {
   "cell_type": "code",
   "execution_count": 10,
   "id": "8bc8b4d1-4864-4610-b281-53245fca8db5",
   "metadata": {
    "tags": []
   },
   "outputs": [],
   "source": [
    "focalplane = toast.instrument.Focalplane(sample_rate=10*u.Hz#,thinfp=256\n",
    "                                        )\n",
    "##One fourth of total detectors in the focalplane\n",
    "## For S4, sample rate ~10-100"
   ]
  },
  {
   "cell_type": "code",
   "execution_count": 11,
   "id": "78f3603b-2fa4-49f0-b1b9-bb842564d94f",
   "metadata": {
    "tags": []
   },
   "outputs": [],
   "source": [
    "with toast.io.H5File(\"focalplane_SAT3_SAT_f030.h5\", \"r\", comm=comm, force_serial=True) as f:\n",
    "            focalplane.load_hdf5(f.handle, comm=comm)"
   ]
  },
  {
   "cell_type": "markdown",
   "id": "92f7b9a8-a5d2-4217-89b7-5c754772d7ba",
   "metadata": {},
   "source": [
    "Print focalplane information"
   ]
  },
  {
   "cell_type": "code",
   "execution_count": 12,
   "id": "a1aba94e-7ba9-40b4-a46d-c5b3b79a2817",
   "metadata": {
    "tags": []
   },
   "outputs": [
    {
     "data": {
      "text/plain": [
       "<Focalplane: 252 detectors, sample_rate = 10.0 Hz, FOV = 29.77320077597548 deg, detectors = [029_000_SAT_f030_A .. 040_011_SAT_f030_B]>"
      ]
     },
     "execution_count": 12,
     "metadata": {},
     "output_type": "execute_result"
    }
   ],
   "source": [
    "focalplane"
   ]
  },
  {
   "cell_type": "markdown",
   "id": "9e80711f-c0ba-4bfd-9edc-02560edc5e4e",
   "metadata": {},
   "source": [
    "Define the schedule, site and telescope"
   ]
  },
  {
   "cell_type": "code",
   "execution_count": 13,
   "id": "7c4bee40-5fa5-440e-9c87-97b9fb9ed5d9",
   "metadata": {
    "tags": []
   },
   "outputs": [
    {
     "name": "stdout",
     "output_type": "stream",
     "text": [
      "TOAST INFO: Loading schedule from POLE_DEEP-169-7.txt\n",
      "TOAST INFO: Loaded 1 scans from POLE_DEEP-169-7.txt totaling 84.0 minutes.\n"
     ]
    }
   ],
   "source": [
    "schedule = toast.schedule.GroundSchedule()\n",
    "schedule.read(\"POLE_DEEP-169-7.txt\", comm=comm)"
   ]
  },
  {
   "cell_type": "markdown",
   "id": "16e3f63c-d624-440a-93fb-8275a99efac2",
   "metadata": {},
   "source": [
    "Print schedule information"
   ]
  },
  {
   "cell_type": "code",
   "execution_count": 14,
   "id": "b4500e40-960c-45b3-ae8d-ca2d5f108432",
   "metadata": {
    "tags": []
   },
   "outputs": [
    {
     "data": {
      "text/plain": [
       "<GroundSchedule site=SOUTH_POLE at -89.991 deg, -44.65 deg, 2843.0 m telescope SAT with 1 scans\n",
       "  <GroundScan 'POLE_DEEP' at 2027-05-28T15:00:00+00:00 with El = 54.1 deg, Az 288.19 deg -- 358.87 deg>\n",
       ">"
      ]
     },
     "execution_count": 14,
     "metadata": {},
     "output_type": "execute_result"
    }
   ],
   "source": [
    "schedule"
   ]
  },
  {
   "cell_type": "markdown",
   "id": "f7825fc0-3ec9-4a18-b511-01cbd5d2537a",
   "metadata": {},
   "source": [
    "Print telescope information"
   ]
  },
  {
   "cell_type": "code",
   "execution_count": 15,
   "id": "1c685d9f-b6e7-45f8-8dc4-9b7bab728460",
   "metadata": {
    "tags": []
   },
   "outputs": [],
   "source": [
    "site = toast.instrument.GroundSite(\n",
    "        schedule.site_name,\n",
    "        schedule.site_lat,\n",
    "        schedule.site_lon,\n",
    "        schedule.site_alt,\n",
    "        weather=None,\n",
    "    )\n",
    "telescope = toast.instrument.Telescope(\n",
    "        \"My_telescope\", focalplane=focalplane, site=site\n",
    "    )"
   ]
  },
  {
   "cell_type": "code",
   "execution_count": 16,
   "id": "4846adc4-f2b2-44e3-9210-2c7f78a9fe44",
   "metadata": {
    "tags": []
   },
   "outputs": [
    {
     "data": {
      "text/plain": [
       "<Telescope 'My_telescope': uid = 3533178314, site = <GroundSite 'SOUTH_POLE' : uid = 588178429, lon = -44.64999999999998 deg, lat = -89.991 deg, alt = 2842.9999999993684 m, weather = None>, focalplane = <Focalplane: 252 detectors, sample_rate = 10.0 Hz, FOV = 29.77320077597548 deg, detectors = [029_000_SAT_f030_A .. 040_011_SAT_f030_B]>>"
      ]
     },
     "execution_count": 16,
     "metadata": {},
     "output_type": "execute_result"
    }
   ],
   "source": [
    "telescope"
   ]
  },
  {
   "cell_type": "markdown",
   "id": "e2876a22-7a8d-4651-a9bd-c247321aa03e",
   "metadata": {},
   "source": [
    "We can have multiple groups for parallel computing (start with one). Create a Data Instance and simulate a ground observation operator."
   ]
  },
  {
   "cell_type": "code",
   "execution_count": 17,
   "id": "d5a8dcfe-7e94-454c-a403-f9157dce242d",
   "metadata": {
    "tags": []
   },
   "outputs": [],
   "source": [
    "toast_comm = toast.Comm(world=comm, groupsize=1)"
   ]
  },
  {
   "cell_type": "code",
   "execution_count": 18,
   "id": "e900689f-f1c0-4542-ba34-c6355c332468",
   "metadata": {
    "tags": []
   },
   "outputs": [],
   "source": [
    "data = toast.Data(comm=toast_comm)"
   ]
  },
  {
   "cell_type": "code",
   "execution_count": 19,
   "id": "e0e5eabd-d13c-4882-b1cd-57a4dd5b57ac",
   "metadata": {
    "tags": []
   },
   "outputs": [],
   "source": [
    "sim_ground = toast.ops.SimGround(name=\"sim_ground\", \n",
    "                                 weather=\"south_pole\", \n",
    "                                 detset_key=\"pixel\", \n",
    "                                 telescope = telescope, \n",
    "                                 schedule = schedule\n",
    "                                ) ##simulate motion of the boresight"
   ]
  },
  {
   "cell_type": "code",
   "execution_count": 20,
   "id": "563bb152-ee79-456e-b31b-174c938233f9",
   "metadata": {
    "tags": []
   },
   "outputs": [
    {
     "data": {
      "text/plain": [
       "<SimGround\n",
       "  API = 0 # Internal interface version for this operator\n",
       "  azimuth = azimuth # Observation shared key for Azimuth\n",
       "  boresight_azel = boresight_azel # Observation shared key for boresight AZ/EL\n",
       "  boresight_radec = boresight_radec # Observation shared key for boresight RA/DEC\n",
       "  det_data = signal # Observation detdata key to initialize\n",
       "  det_data_units = K # Output units if creating detector data\n",
       "  det_flags = flags # Observation detdata key for flags to initialize\n",
       "  detset_key = pixel # If specified, use this column of the focalplane detector_data to group detectors\n",
       "  distribute_time = False # Distribute observation data along the time axis rather than detector axis\n",
       "  el_mod_amplitude = 1.0 deg # Range of elevation modulation\n",
       "  el_mod_rate = 0.0 Hz # Modulate elevation continuously at this rate\n",
       "  el_mod_sine = False # Modulate elevation with a sine wave instead of a triangle wave\n",
       "  el_mod_step = 0.0 deg # Amount to step elevation after each left-right scan pair\n",
       "  elevation = elevation # Observation shared key for Elevation\n",
       "  elnod_end = False # Perform an el-nod after the scan\n",
       "  elnod_every_scan = False # Perform el nods every scan\n",
       "  elnod_interval = elnod # Interval name for elnods\n",
       "  elnod_mask = 8 # Bit mask to raise elevation nod flags with\n",
       "  elnod_start = False # Perform an el-nod before the scan\n",
       "  elnods = [] # List of relative el_nods\n",
       "  enabled = True # If True, this class instance is marked as enabled\n",
       "  fix_rate_on_sky = True # If True, `scan_rate_az` is given in sky coordinates and azimuthal rate on mount will be adjusted to meet it.  If False, `scan_rate_az` is used as the mount azimuthal rate.\n",
       "  hwp_angle = None # Observation shared key for HWP angle\n",
       "  hwp_rpm = None # The rate (in RPM) of the HWP rotation\n",
       "  hwp_step = None # For stepped HWP, the angle of each step\n",
       "  hwp_step_time = None # For stepped HWP, the time between steps\n",
       "  kernel_implementation = 0 # Which kernel implementation to use (DEFAULT, COMPILED, NUMPY, JAX).\n",
       "  max_pwv = None # Maximum PWV for the simulated weather.\n",
       "  median_weather = False # Use median weather parameters instead of sampling from the distributions\n",
       "  name = sim_ground # The 'name' of this class instance\n",
       "  position = position # Observation shared key for position\n",
       "  randomize_phase = False # If True, the Constant Elevation Scan will begin at a randomized phase.\n",
       "  realization = 0 # The realization index\n",
       "  scan_accel_az = 1.0 deg / s2 # Mount scanning rate acceleration for turnarounds\n",
       "  scan_accel_el = 1.0 deg / s2 # Mount elevation rate acceleration.\n",
       "  scan_cosecant_modulation = False # Modulate the scan rate according to 1/sin(az) for uniform depth\n",
       "  scan_leftright_interval = scan_leftright # Interval name for left to right scans\n",
       "  scan_rate_az = 1.0 deg / s # The sky or mount azimuth scanning rate.  See `fix_rate_on_sky`\n",
       "  scan_rate_el = 1.0 deg / s # The sky elevation scanning rate\n",
       "  scan_rightleft_interval = scan_rightleft # Interval name for right to left scans\n",
       "  scanning_interval = scanning # Interval name for scanning\n",
       "  schedule = <GroundSchedule site=SOUTH_POLE at -89.991 deg, -44.65 deg, 2843.0 m telescope SAT with 1 scans\n",
       "  <GroundScan 'POLE_DEEP' at 2027-05-28T15:00:00+00:00 with El = 54.1 deg, Az 288.19 deg -- 358.87 deg>\n",
       "> # Instance of a GroundSchedule\n",
       "  session_split_key = None # Focalplane key for splitting into observations\n",
       "  shared_flags = flags # Observation shared key for common flags\n",
       "  sun_angle_min = 90.0 deg # Minimum angular distance for the scan and the Sun\n",
       "  sun_close_distance = 45.0 deg # 'Sun close' flagging distance\n",
       "  sun_close_interval = sun_close # Interval name for times when the sun is close\n",
       "  sun_close_mask = 32 # Bit mask to raise Sun close flags with\n",
       "  sun_up_interval = sun_up # Interval name for times when the sun is up\n",
       "  sun_up_mask = 16 # Bit mask to raise Sun up flags with\n",
       "  telescope = <Telescope 'My_telescope': uid = 3533178314, site = <GroundSite 'SOUTH_POLE' : uid = 588178429, lon = -44.64999999999998 deg, lat = -89.991 deg, alt = 2842.9999999993684 m, weather = None>, focalplane = <Focalplane: 252 detectors, sample_rate = 10.0 Hz, FOV = 29.77320077597548 deg, detectors = [029_000_SAT_f030_A .. 040_011_SAT_f030_B]>> # This must be an instance of a Telescope\n",
       "  throw_interval = throw # Interval name for scan + turnaround intervals\n",
       "  throw_leftright_interval = throw_leftright # Interval name for left to right scans + turnarounds\n",
       "  throw_rightleft_interval = throw_rightleft # Interval name for right to left scans + turnarounds\n",
       "  times = times # Observation shared key for timestamps\n",
       "  track_azimuth = False # If True, the azimuth throw is continually adjusted to center the field.\n",
       "  turn_leftright_interval = turn_leftright # Interval name for turnarounds after left to right scans\n",
       "  turn_rightleft_interval = turn_rightleft # Interval name for turnarounds after right to left scans\n",
       "  turnaround_interval = turnaround # Interval name for turnarounds\n",
       "  turnaround_mask = 4 # Bit mask to raise turnaround flags with\n",
       "  use_ephem = True # Use PyEphem to convert between horizontal and equatorial systems\n",
       "  use_qpoint = False # Use qpoint to convert between horizontal and equatorial systems\n",
       "  velocity = velocity # Observation shared key for velocity\n",
       "  weather = south_pole # Name of built-in weather site (e.g. 'atacama', 'south_pole') or path to HDF5 file\n",
       ">"
      ]
     },
     "execution_count": 20,
     "metadata": {},
     "output_type": "execute_result"
    }
   ],
   "source": [
    "sim_ground"
   ]
  },
  {
   "cell_type": "code",
   "execution_count": 21,
   "id": "c736a3f3-dd6d-4940-aa1c-f650d1c6a565",
   "metadata": {
    "tags": []
   },
   "outputs": [],
   "source": [
    "sim_ground.apply(data)"
   ]
  },
  {
   "cell_type": "code",
   "execution_count": 22,
   "id": "54afed22-75a2-4524-a819-9e8765578582",
   "metadata": {
    "tags": []
   },
   "outputs": [
    {
     "data": {
      "text/plain": [
       "<Observation\n",
       "  name = 'POLE_DEEP-169-7'\n",
       "  uid = '2008944542'  group has a single process (no MPI)\n",
       "  telescope = <Telescope 'My_telescope': uid = 3533178314, site = <GroundSite 'SOUTH_POLE' : uid = 588178429, lon = -44.64999999999998 deg, lat = -89.991 deg, alt = 2842.9999999993684 m, weather = <SimWeather : 'south_pole', year = 2027, month = 4, hour = 15, site UID = 588178429, realization = 0, median = False)>, focalplane = <Focalplane: 252 detectors, sample_rate = 10.0 Hz, FOV = 29.77320077597548 deg, detectors = [029_000_SAT_f030_A .. 040_011_SAT_f030_B]>>\n",
       "  session = <Session 'POLE_DEEP-169-7': uid = 1708650531, start = 2027-05-28 15:00:00+00:00, end = 2027-05-28 16:23:59.900000+00:00>\n",
       "  scan_el = 54.1 deg\n",
       "  scan_min_az = -1.2787014485740134 rad\n",
       "  scan_max_az = 6.263463086632051 rad\n",
       "  scan_min_el = 0.9442231253289323 rad\n",
       "  scan_max_el = 0.9442231253289323 rad\n",
       "  50400 total samples (50400 local)\n",
       "  shared:  <SharedDataManager\n",
       "    times (column): shape=(50400,), dtype=float64\n",
       "    position (column): shape=(50400, 3), dtype=float64\n",
       "    velocity (column): shape=(50400, 3), dtype=float64\n",
       "    azimuth (column): shape=(50400,), dtype=float64\n",
       "    elevation (column): shape=(50400,), dtype=float64\n",
       "    boresight_azel (column): shape=(50400, 4), dtype=float64\n",
       "    boresight_radec (column): shape=(50400, 4), dtype=float64\n",
       "    flags (column): shape=(50400,), dtype=uint8>\n",
       "  detdata:  <DetDataManager 252 local detectors, 50400 samples\n",
       "    signal: shape=(252, 50400), dtype=float64, units='K'\n",
       "    flags: shape=(252, 50400), dtype=uint8, units=''>\n",
       "  intervals:  <IntervalsManager 13 lists\n",
       "  throw_leftright: 57 intervals\n",
       "  throw_rightleft: 56 intervals\n",
       "  throw: 113 intervals\n",
       "  scan_leftright: 57 intervals\n",
       "  turn_leftright: 56 intervals\n",
       "  scan_rightleft: 56 intervals\n",
       "  turn_rightleft: 56 intervals\n",
       "  elnod: 0 intervals\n",
       "  scanning: 113 intervals\n",
       "  turnaround: 112 intervals\n",
       "  sun_up: 0 intervals\n",
       "  sun_close: 0 intervals>\n",
       ">"
      ]
     },
     "execution_count": 22,
     "metadata": {},
     "output_type": "execute_result"
    }
   ],
   "source": [
    "data.obs[0]\n",
    "## Session associated to weather simulation, not individual optic tubes"
   ]
  },
  {
   "cell_type": "code",
   "execution_count": 23,
   "id": "599053a0-7469-40c7-b6f6-e3af76068af1",
   "metadata": {
    "tags": []
   },
   "outputs": [],
   "source": [
    "ob = data.obs[0]\n",
    "ob.detdata.create(name = 'Planck',units = u.K)"
   ]
  },
  {
   "cell_type": "code",
   "execution_count": 24,
   "id": "67998389-9e0a-4980-8d4c-311f84b1c79e",
   "metadata": {},
   "outputs": [],
   "source": [
    "pointing = toast.ops.PointingDetectorSimple() ##boresight pointing into detector frame (RA/DEC by default)\n",
    "weights = toast.ops.StokesWeights(detector_pointing = pointing,mode = \"IQU\")\n",
    "pixels = toast.ops.PixelsHealpix(detector_pointing = pointing, nside = NSIDE)"
   ]
  },
  {
   "cell_type": "code",
   "execution_count": 25,
   "id": "f7290807-ea0b-42c2-906c-0d4552059352",
   "metadata": {},
   "outputs": [],
   "source": [
    "step_0 = 4*u.second\n"
   ]
  },
  {
   "cell_type": "code",
   "execution_count": 26,
   "id": "295175bf-55be-4cce-80ec-24fff53127b8",
   "metadata": {
    "tags": []
   },
   "outputs": [],
   "source": [
    "templates = [toast.templates.Offset(name=\"baselines\", step_time = step_0)]"
   ]
  },
  {
   "cell_type": "code",
   "execution_count": 27,
   "id": "a095159a-0b24-4333-8220-1573b9ca9be1",
   "metadata": {
    "tags": []
   },
   "outputs": [
    {
     "data": {
      "text/plain": [
       "[<Offset\n",
       "   data = None # This must be an instance of a Data class (or None)\n",
       "   debug_plots = None # If not None, make debugging plots in this directory\n",
       "   det_data = signal # Observation detdata key for the timestream data\n",
       "   det_data_units = K # Desired units of detector data\n",
       "   det_flag_mask = 7 # Bit mask value for solver flags\n",
       "   det_flags = flags # Observation detdata key for solver flags to use\n",
       "   det_mask = 1 # Bit mask value for per-detector flagging\n",
       "   enabled = True # If True, this class instance is marked as enabled\n",
       "   good_fraction = 0.5 # Fraction of unflagged samples needed to keep a given offset amplitude\n",
       "   kernel_implementation = 0 # Which kernel implementation to use (DEFAULT, COMPILED, NUMPY, JAX).\n",
       "   name = baselines # The 'name' of this class instance\n",
       "   noise_model = None # Observation key containing the optional noise model\n",
       "   precond_width = 20 # Preconditioner width in terms of offsets / baselines\n",
       "   step_time = 4.0 s # Time per baseline step\n",
       "   times = times # Observation shared key for timestamps\n",
       "   use_noise_prior = False # Use detector PSDs to build the noise prior and preconditioner\n",
       "   view = None # Use this view of the data in all observations\n",
       " >]"
      ]
     },
     "execution_count": 27,
     "metadata": {},
     "output_type": "execute_result"
    }
   ],
   "source": [
    "templates"
   ]
  },
  {
   "cell_type": "code",
   "execution_count": 28,
   "id": "bb0d70dc-39e1-4b2f-94bd-c6363d421ac1",
   "metadata": {
    "tags": []
   },
   "outputs": [],
   "source": [
    "template_matrix = toast.ops.TemplateMatrix(templates=templates)"
   ]
  },
  {
   "cell_type": "code",
   "execution_count": 29,
   "id": "e47747d7-b24b-4dc3-b6a2-d2589fad0ef3",
   "metadata": {
    "tags": []
   },
   "outputs": [],
   "source": [
    "scan_map = toast.ops.ScanHealpixMap(name=\"scan_healpix_map\", file='file_c1d0s0_30GHz.FITS',pixel_pointing = pixels, stokes_weights = weights)\n",
    "scan_map.det_data = 'Planck'\n"
   ]
  },
  {
   "cell_type": "code",
   "execution_count": 30,
   "id": "b792bbab-d1d6-4049-a28e-7faa883202ef",
   "metadata": {
    "tags": []
   },
   "outputs": [
    {
     "name": "stdout",
     "output_type": "stream",
     "text": [
      "TOAST INFO: Pixel data in file_c1d0s0_30GHz.FITS does not have TUNIT1 key.  Assuming 'K'.\n"
     ]
    },
    {
     "data": {
      "text/plain": [
       "<Data with 1 Observations:\n",
       "<Observation\n",
       "  name = 'POLE_DEEP-169-7'\n",
       "  uid = '2008944542'  group has a single process (no MPI)\n",
       "  telescope = <Telescope 'My_telescope': uid = 3533178314, site = <GroundSite 'SOUTH_POLE' : uid = 588178429, lon = -44.64999999999998 deg, lat = -89.991 deg, alt = 2842.9999999993684 m, weather = <SimWeather : 'south_pole', year = 2027, month = 4, hour = 15, site UID = 588178429, realization = 0, median = False)>, focalplane = <Focalplane: 252 detectors, sample_rate = 10.0 Hz, FOV = 29.77320077597548 deg, detectors = [029_000_SAT_f030_A .. 040_011_SAT_f030_B]>>\n",
       "  session = <Session 'POLE_DEEP-169-7': uid = 1708650531, start = 2027-05-28 15:00:00+00:00, end = 2027-05-28 16:23:59.900000+00:00>\n",
       "  scan_el = 54.1 deg\n",
       "  scan_min_az = -1.2787014485740134 rad\n",
       "  scan_max_az = 6.263463086632051 rad\n",
       "  scan_min_el = 0.9442231253289323 rad\n",
       "  scan_max_el = 0.9442231253289323 rad\n",
       "  50400 total samples (50400 local)\n",
       "  shared:  <SharedDataManager\n",
       "    times (column): shape=(50400,), dtype=float64\n",
       "    position (column): shape=(50400, 3), dtype=float64\n",
       "    velocity (column): shape=(50400, 3), dtype=float64\n",
       "    azimuth (column): shape=(50400,), dtype=float64\n",
       "    elevation (column): shape=(50400,), dtype=float64\n",
       "    boresight_azel (column): shape=(50400, 4), dtype=float64\n",
       "    boresight_radec (column): shape=(50400, 4), dtype=float64\n",
       "    flags (column): shape=(50400,), dtype=uint8>\n",
       "  detdata:  <DetDataManager 252 local detectors, 50400 samples\n",
       "    signal: shape=(252, 50400), dtype=float64, units='K'\n",
       "    flags: shape=(252, 50400), dtype=uint8, units=''\n",
       "    Planck: shape=(252, 50400), dtype=float64, units='K'\n",
       "    quats: shape=(1, 50400, 4), dtype=float64, units=''\n",
       "    pixels: shape=(1, 50400), dtype=int64, units=''\n",
       "    weights: shape=(1, 50400, 3), dtype=float64, units=''>\n",
       "  intervals:  <IntervalsManager 13 lists\n",
       "  throw_leftright: 57 intervals\n",
       "  throw_rightleft: 56 intervals\n",
       "  throw: 113 intervals\n",
       "  scan_leftright: 57 intervals\n",
       "  turn_leftright: 56 intervals\n",
       "  scan_rightleft: 56 intervals\n",
       "  turn_rightleft: 56 intervals\n",
       "  elnod: 0 intervals\n",
       "  scanning: 113 intervals\n",
       "  turnaround: 112 intervals\n",
       "  sun_up: 0 intervals\n",
       "  sun_close: 0 intervals>\n",
       ">\n",
       "Metadata:\n",
       "{'pixel_dist': <PixelDistribution 3145728 pixels, 1024 submaps, submap size = 3072>}\n",
       ">"
      ]
     },
     "execution_count": 30,
     "metadata": {},
     "output_type": "execute_result"
    }
   ],
   "source": [
    "scan_map.apply(data)\n",
    "data"
   ]
  },
  {
   "cell_type": "markdown",
   "id": "35283778-e249-4d0b-a1e3-549c46b44b34",
   "metadata": {},
   "source": [
    "How to center data in 0? \n",
    "Find the right average?\n",
    "\n",
    "How does the instrument adjust between detectors? Relative average level for different detectors?\n",
    "\n",
    "Use a 0-th order polynominial filter to remove average"
   ]
  },
  {
   "cell_type": "code",
   "execution_count": 31,
   "id": "4499ce5a-1094-4b18-acd3-3f4e964a44a5",
   "metadata": {
    "tags": []
   },
   "outputs": [],
   "source": [
    "def filter_0(obs, det_data):\n",
    "    obs_arr = obs.detdata[det_data]\n",
    "    obs_arr2 = np.zeros(obs_arr.shape)\n",
    "    i = 0\n",
    "    for detec in obs_arr:\n",
    "        obs_arr2[i] = detec- np.mean(detec)\n",
    "        i+=1\n",
    "    obs.detdata[det_data][:,:]  = obs_arr2"
   ]
  },
  {
   "cell_type": "code",
   "execution_count": 32,
   "id": "18663f5c-8a7e-472a-8abb-fbf853e990d9",
   "metadata": {
    "tags": []
   },
   "outputs": [],
   "source": [
    "filter_0(ob,'Planck')"
   ]
  },
  {
   "cell_type": "markdown",
   "id": "2b26f8aa-7634-4564-8cff-53a5bd5ecad2",
   "metadata": {},
   "source": [
    "For each TOD, create a corresponding Mampaker operator, in order to retrieve reconstructed maps independently."
   ]
  },
  {
   "cell_type": "code",
   "execution_count": 33,
   "id": "e48d7d74-64e8-4b05-9343-411a8ce75674",
   "metadata": {},
   "outputs": [],
   "source": [
    "binner = toast.ops.BinMap(pixel_pointing = pixels, stokes_w = weights)\n",
    "mapmaker = toast.ops.MapMaker(binning = binner, template_matrix=template_matrix)"
   ]
  },
  {
   "cell_type": "code",
   "execution_count": 34,
   "id": "76cdcdfe-9690-4a8f-92d5-0256a7f92e82",
   "metadata": {
    "tags": []
   },
   "outputs": [],
   "source": [
    "mapmaker.iter_max = 50\n",
    "mapmaker.convergence = 1.0e-10\n",
    "mapmaker.mc_mode = False\n",
    "\n",
    "#mapmaker\n",
    "\n",
    "#mapmaker.mc_root = 'root'"
   ]
  },
  {
   "cell_type": "code",
   "execution_count": 35,
   "id": "7a39859c-373d-4e16-8b84-e3ca61ec2efb",
   "metadata": {
    "tags": []
   },
   "outputs": [
    {
     "data": {
      "text/plain": [
       "False"
      ]
     },
     "execution_count": 35,
     "metadata": {},
     "output_type": "execute_result"
    }
   ],
   "source": [
    "mapmaker.mc_mode"
   ]
  },
  {
   "cell_type": "code",
   "execution_count": 36,
   "id": "876beb03-5c7a-4125-86e6-eaf45a0fcdf9",
   "metadata": {
    "tags": []
   },
   "outputs": [],
   "source": [
    "binner.stokes_weights = weights"
   ]
  },
  {
   "cell_type": "code",
   "execution_count": 37,
   "id": "a6cffd95-e67a-472e-ba52-dd86508174fc",
   "metadata": {
    "tags": []
   },
   "outputs": [
    {
     "name": "stdout",
     "output_type": "stream",
     "text": [
      "TOAST INFO: SolveAmplitudes begin building flags for solver\n",
      "TOAST INFO: SolveAmplitudes  finished flag building in 0.05 s\n",
      "TOAST INFO: SolveAmplitudes begin build of solver covariance\n"
     ]
    },
    {
     "ename": "RuntimeError",
     "evalue": "Noise model noise_model does not exist in observation POLE_DEEP-169-7",
     "output_type": "error",
     "traceback": [
      "\u001b[0;31m---------------------------------------------------------------------------\u001b[0m",
      "\u001b[0;31mRuntimeError\u001b[0m                              Traceback (most recent call last)",
      "Cell \u001b[0;32mIn[37], line 5\u001b[0m\n\u001b[1;32m      3\u001b[0m mapmaker\u001b[38;5;241m.\u001b[39mdet_data \u001b[38;5;241m=\u001b[39m \u001b[38;5;124m'\u001b[39m\u001b[38;5;124mPlanck\u001b[39m\u001b[38;5;124m'\u001b[39m\n\u001b[1;32m      4\u001b[0m mapmaker\u001b[38;5;241m.\u001b[39moutput_dir \u001b[38;5;241m=\u001b[39m \u001b[38;5;124m'\u001b[39m\u001b[38;5;124m./Planck\u001b[39m\u001b[38;5;124m'\u001b[39m\n\u001b[0;32m----> 5\u001b[0m \u001b[43mmapmaker\u001b[49m\u001b[38;5;241;43m.\u001b[39;49m\u001b[43mapply\u001b[49m\u001b[43m(\u001b[49m\u001b[43mdata\u001b[49m\u001b[43m)\u001b[49m\n",
      "File \u001b[0;32m~/.conda/envs/toastdev/lib/python3.9/site-packages/toast/timing.py:107\u001b[0m, in \u001b[0;36mfunction_timer_stackskip.<locals>.df\u001b[0;34m(*args, **kwargs)\u001b[0m\n\u001b[1;32m    105\u001b[0m \u001b[38;5;129m@wraps\u001b[39m(f)\n\u001b[1;32m    106\u001b[0m \u001b[38;5;28;01mdef\u001b[39;00m \u001b[38;5;21mdf\u001b[39m(\u001b[38;5;241m*\u001b[39margs, \u001b[38;5;241m*\u001b[39m\u001b[38;5;241m*\u001b[39mkwargs):\n\u001b[0;32m--> 107\u001b[0m     \u001b[38;5;28;01mreturn\u001b[39;00m \u001b[43mf\u001b[49m\u001b[43m(\u001b[49m\u001b[38;5;241;43m*\u001b[39;49m\u001b[43margs\u001b[49m\u001b[43m,\u001b[49m\u001b[43m \u001b[49m\u001b[38;5;241;43m*\u001b[39;49m\u001b[38;5;241;43m*\u001b[39;49m\u001b[43mkwargs\u001b[49m\u001b[43m)\u001b[49m\n",
      "File \u001b[0;32m~/.conda/envs/toastdev/lib/python3.9/site-packages/toast/ops/operator.py:107\u001b[0m, in \u001b[0;36mOperator.apply\u001b[0;34m(self, data, detectors, use_accel, **kwargs)\u001b[0m\n\u001b[1;32m     86\u001b[0m \u001b[38;5;129m@function_timer_stackskip\u001b[39m\n\u001b[1;32m     87\u001b[0m \u001b[38;5;28;01mdef\u001b[39;00m \u001b[38;5;21mapply\u001b[39m(\u001b[38;5;28mself\u001b[39m, data, detectors\u001b[38;5;241m=\u001b[39m\u001b[38;5;28;01mNone\u001b[39;00m, use_accel\u001b[38;5;241m=\u001b[39m\u001b[38;5;28;01mNone\u001b[39;00m, \u001b[38;5;241m*\u001b[39m\u001b[38;5;241m*\u001b[39mkwargs):\n\u001b[1;32m     88\u001b[0m \u001b[38;5;250m    \u001b[39m\u001b[38;5;124;03m\"\"\"Run exec() and finalize().\u001b[39;00m\n\u001b[1;32m     89\u001b[0m \n\u001b[1;32m     90\u001b[0m \u001b[38;5;124;03m    This is a convenience wrapper that calls exec() exactly once with an optional\u001b[39;00m\n\u001b[0;32m   (...)\u001b[0m\n\u001b[1;32m    105\u001b[0m \n\u001b[1;32m    106\u001b[0m \u001b[38;5;124;03m    \"\"\"\u001b[39;00m\n\u001b[0;32m--> 107\u001b[0m     \u001b[38;5;28;43mself\u001b[39;49m\u001b[38;5;241;43m.\u001b[39;49m\u001b[43mexec\u001b[49m\u001b[43m(\u001b[49m\u001b[43mdata\u001b[49m\u001b[43m,\u001b[49m\u001b[43m \u001b[49m\u001b[43mdetectors\u001b[49m\u001b[43m,\u001b[49m\u001b[43m \u001b[49m\u001b[43muse_accel\u001b[49m\u001b[38;5;241;43m=\u001b[39;49m\u001b[43muse_accel\u001b[49m\u001b[43m,\u001b[49m\u001b[43m \u001b[49m\u001b[38;5;241;43m*\u001b[39;49m\u001b[38;5;241;43m*\u001b[39;49m\u001b[43mkwargs\u001b[49m\u001b[43m)\u001b[49m\n\u001b[1;32m    108\u001b[0m     \u001b[38;5;28;01mreturn\u001b[39;00m \u001b[38;5;28mself\u001b[39m\u001b[38;5;241m.\u001b[39mfinalize(data, use_accel\u001b[38;5;241m=\u001b[39muse_accel, \u001b[38;5;241m*\u001b[39m\u001b[38;5;241m*\u001b[39mkwargs)\n",
      "File \u001b[0;32m~/.conda/envs/toastdev/lib/python3.9/site-packages/toast/timing.py:107\u001b[0m, in \u001b[0;36mfunction_timer_stackskip.<locals>.df\u001b[0;34m(*args, **kwargs)\u001b[0m\n\u001b[1;32m    105\u001b[0m \u001b[38;5;129m@wraps\u001b[39m(f)\n\u001b[1;32m    106\u001b[0m \u001b[38;5;28;01mdef\u001b[39;00m \u001b[38;5;21mdf\u001b[39m(\u001b[38;5;241m*\u001b[39margs, \u001b[38;5;241m*\u001b[39m\u001b[38;5;241m*\u001b[39mkwargs):\n\u001b[0;32m--> 107\u001b[0m     \u001b[38;5;28;01mreturn\u001b[39;00m \u001b[43mf\u001b[49m\u001b[43m(\u001b[49m\u001b[38;5;241;43m*\u001b[39;49m\u001b[43margs\u001b[49m\u001b[43m,\u001b[49m\u001b[43m \u001b[49m\u001b[38;5;241;43m*\u001b[39;49m\u001b[38;5;241;43m*\u001b[39;49m\u001b[43mkwargs\u001b[49m\u001b[43m)\u001b[49m\n",
      "File \u001b[0;32m~/.conda/envs/toastdev/lib/python3.9/site-packages/toast/ops/operator.py:47\u001b[0m, in \u001b[0;36mOperator.exec\u001b[0;34m(self, data, detectors, use_accel, **kwargs)\u001b[0m\n\u001b[1;32m     45\u001b[0m log \u001b[38;5;241m=\u001b[39m Logger\u001b[38;5;241m.\u001b[39mget()\n\u001b[1;32m     46\u001b[0m \u001b[38;5;28;01mif\u001b[39;00m \u001b[38;5;28mself\u001b[39m\u001b[38;5;241m.\u001b[39menabled:\n\u001b[0;32m---> 47\u001b[0m     \u001b[38;5;28;43mself\u001b[39;49m\u001b[38;5;241;43m.\u001b[39;49m\u001b[43m_exec\u001b[49m\u001b[43m(\u001b[49m\n\u001b[1;32m     48\u001b[0m \u001b[43m        \u001b[49m\u001b[43mdata\u001b[49m\u001b[43m,\u001b[49m\n\u001b[1;32m     49\u001b[0m \u001b[43m        \u001b[49m\u001b[43mdetectors\u001b[49m\u001b[38;5;241;43m=\u001b[39;49m\u001b[43mdetectors\u001b[49m\u001b[43m,\u001b[49m\n\u001b[1;32m     50\u001b[0m \u001b[43m        \u001b[49m\u001b[43muse_accel\u001b[49m\u001b[38;5;241;43m=\u001b[39;49m\u001b[43muse_accel\u001b[49m\u001b[43m,\u001b[49m\n\u001b[1;32m     51\u001b[0m \u001b[43m        \u001b[49m\u001b[38;5;241;43m*\u001b[39;49m\u001b[38;5;241;43m*\u001b[39;49m\u001b[43mkwargs\u001b[49m\u001b[43m,\u001b[49m\n\u001b[1;32m     52\u001b[0m \u001b[43m    \u001b[49m\u001b[43m)\u001b[49m\n\u001b[1;32m     53\u001b[0m \u001b[38;5;28;01melse\u001b[39;00m:\n\u001b[1;32m     54\u001b[0m     \u001b[38;5;28;01mif\u001b[39;00m data\u001b[38;5;241m.\u001b[39mcomm\u001b[38;5;241m.\u001b[39mworld_rank \u001b[38;5;241m==\u001b[39m \u001b[38;5;241m0\u001b[39m:\n",
      "File \u001b[0;32m~/.conda/envs/toastdev/lib/python3.9/site-packages/toast/timing.py:81\u001b[0m, in \u001b[0;36mfunction_timer.<locals>.df\u001b[0;34m(*args, **kwargs)\u001b[0m\n\u001b[1;32m     79\u001b[0m \u001b[38;5;129m@wraps\u001b[39m(f)\n\u001b[1;32m     80\u001b[0m \u001b[38;5;28;01mdef\u001b[39;00m \u001b[38;5;21mdf\u001b[39m(\u001b[38;5;241m*\u001b[39margs, \u001b[38;5;241m*\u001b[39m\u001b[38;5;241m*\u001b[39mkwargs):\n\u001b[0;32m---> 81\u001b[0m     \u001b[38;5;28;01mreturn\u001b[39;00m \u001b[43mf\u001b[49m\u001b[43m(\u001b[49m\u001b[38;5;241;43m*\u001b[39;49m\u001b[43margs\u001b[49m\u001b[43m,\u001b[49m\u001b[43m \u001b[49m\u001b[38;5;241;43m*\u001b[39;49m\u001b[38;5;241;43m*\u001b[39;49m\u001b[43mkwargs\u001b[49m\u001b[43m)\u001b[49m\n",
      "File \u001b[0;32m~/.conda/envs/toastdev/lib/python3.9/site-packages/toast/ops/mapmaker.py:642\u001b[0m, in \u001b[0;36mMapMaker._exec\u001b[0;34m(self, data, detectors, use_accel, **kwargs)\u001b[0m\n\u001b[1;32m    639\u001b[0m \u001b[38;5;28mself\u001b[39m\u001b[38;5;241m.\u001b[39m_memreport\u001b[38;5;241m.\u001b[39mprefix \u001b[38;5;241m=\u001b[39m \u001b[38;5;124m\"\u001b[39m\u001b[38;5;124mStart of mapmaking\u001b[39m\u001b[38;5;124m\"\u001b[39m\n\u001b[1;32m    640\u001b[0m \u001b[38;5;28mself\u001b[39m\u001b[38;5;241m.\u001b[39m_memreport\u001b[38;5;241m.\u001b[39mapply(\u001b[38;5;28mself\u001b[39m\u001b[38;5;241m.\u001b[39m_data, use_accel\u001b[38;5;241m=\u001b[39m\u001b[38;5;28mself\u001b[39m\u001b[38;5;241m.\u001b[39m_use_accel)\n\u001b[0;32m--> 642\u001b[0m template_amplitudes \u001b[38;5;241m=\u001b[39m \u001b[38;5;28;43mself\u001b[39;49m\u001b[38;5;241;43m.\u001b[39;49m\u001b[43m_fit_templates\u001b[49m\u001b[43m(\u001b[49m\u001b[43m)\u001b[49m\n\u001b[1;32m    644\u001b[0m map_binning \u001b[38;5;241m=\u001b[39m \u001b[38;5;28mself\u001b[39m\u001b[38;5;241m.\u001b[39m_prepare_binning()\n\u001b[1;32m    646\u001b[0m \u001b[38;5;28mself\u001b[39m\u001b[38;5;241m.\u001b[39m_build_pixel_covariance(map_binning)\n",
      "File \u001b[0;32m~/.conda/envs/toastdev/lib/python3.9/site-packages/toast/timing.py:81\u001b[0m, in \u001b[0;36mfunction_timer.<locals>.df\u001b[0;34m(*args, **kwargs)\u001b[0m\n\u001b[1;32m     79\u001b[0m \u001b[38;5;129m@wraps\u001b[39m(f)\n\u001b[1;32m     80\u001b[0m \u001b[38;5;28;01mdef\u001b[39;00m \u001b[38;5;21mdf\u001b[39m(\u001b[38;5;241m*\u001b[39margs, \u001b[38;5;241m*\u001b[39m\u001b[38;5;241m*\u001b[39mkwargs):\n\u001b[0;32m---> 81\u001b[0m     \u001b[38;5;28;01mreturn\u001b[39;00m \u001b[43mf\u001b[49m\u001b[43m(\u001b[49m\u001b[38;5;241;43m*\u001b[39;49m\u001b[43margs\u001b[49m\u001b[43m,\u001b[49m\u001b[43m \u001b[49m\u001b[38;5;241;43m*\u001b[39;49m\u001b[38;5;241;43m*\u001b[39;49m\u001b[43mkwargs\u001b[49m\u001b[43m)\u001b[49m\n",
      "File \u001b[0;32m~/.conda/envs/toastdev/lib/python3.9/site-packages/toast/ops/mapmaker.py:356\u001b[0m, in \u001b[0;36mMapMaker._fit_templates\u001b[0;34m(self)\u001b[0m\n\u001b[1;32m    334\u001b[0m \u001b[38;5;250m\u001b[39m\u001b[38;5;124;03m\"\"\"Solve for template amplitudes\"\"\"\u001b[39;00m\n\u001b[1;32m    336\u001b[0m amplitudes_solve \u001b[38;5;241m=\u001b[39m SolveAmplitudes(\n\u001b[1;32m    337\u001b[0m     name\u001b[38;5;241m=\u001b[39m\u001b[38;5;28mself\u001b[39m\u001b[38;5;241m.\u001b[39mname,\n\u001b[1;32m    338\u001b[0m     det_data\u001b[38;5;241m=\u001b[39m\u001b[38;5;28mself\u001b[39m\u001b[38;5;241m.\u001b[39mdet_data,\n\u001b[0;32m   (...)\u001b[0m\n\u001b[1;32m    354\u001b[0m     report_memory\u001b[38;5;241m=\u001b[39m\u001b[38;5;28mself\u001b[39m\u001b[38;5;241m.\u001b[39mreport_memory,\n\u001b[1;32m    355\u001b[0m )\n\u001b[0;32m--> 356\u001b[0m \u001b[43mamplitudes_solve\u001b[49m\u001b[38;5;241;43m.\u001b[39;49m\u001b[43mapply\u001b[49m\u001b[43m(\u001b[49m\n\u001b[1;32m    357\u001b[0m \u001b[43m    \u001b[49m\u001b[38;5;28;43mself\u001b[39;49m\u001b[38;5;241;43m.\u001b[39;49m\u001b[43m_data\u001b[49m\u001b[43m,\u001b[49m\u001b[43m \u001b[49m\u001b[43mdetectors\u001b[49m\u001b[38;5;241;43m=\u001b[39;49m\u001b[38;5;28;43mself\u001b[39;49m\u001b[38;5;241;43m.\u001b[39;49m\u001b[43m_detectors\u001b[49m\u001b[43m,\u001b[49m\u001b[43m \u001b[49m\u001b[43muse_accel\u001b[49m\u001b[38;5;241;43m=\u001b[39;49m\u001b[38;5;28;43mself\u001b[39;49m\u001b[38;5;241;43m.\u001b[39;49m\u001b[43m_use_accel\u001b[49m\n\u001b[1;32m    358\u001b[0m \u001b[43m\u001b[49m\u001b[43m)\u001b[49m\n\u001b[1;32m    359\u001b[0m template_amplitudes \u001b[38;5;241m=\u001b[39m amplitudes_solve\u001b[38;5;241m.\u001b[39mamplitudes\n\u001b[1;32m    361\u001b[0m \u001b[38;5;28mself\u001b[39m\u001b[38;5;241m.\u001b[39m_log\u001b[38;5;241m.\u001b[39minfo_rank(\n\u001b[1;32m    362\u001b[0m     \u001b[38;5;124mf\u001b[39m\u001b[38;5;124m\"\u001b[39m\u001b[38;5;132;01m{\u001b[39;00m\u001b[38;5;28mself\u001b[39m\u001b[38;5;241m.\u001b[39m_log_prefix\u001b[38;5;132;01m}\u001b[39;00m\u001b[38;5;124m  finished template amplitude solve in\u001b[39m\u001b[38;5;124m\"\u001b[39m,\n\u001b[1;32m    363\u001b[0m     comm\u001b[38;5;241m=\u001b[39m\u001b[38;5;28mself\u001b[39m\u001b[38;5;241m.\u001b[39m_comm,\n\u001b[1;32m    364\u001b[0m     timer\u001b[38;5;241m=\u001b[39m\u001b[38;5;28mself\u001b[39m\u001b[38;5;241m.\u001b[39m_timer,\n\u001b[1;32m    365\u001b[0m )\n",
      "File \u001b[0;32m~/.conda/envs/toastdev/lib/python3.9/site-packages/toast/timing.py:107\u001b[0m, in \u001b[0;36mfunction_timer_stackskip.<locals>.df\u001b[0;34m(*args, **kwargs)\u001b[0m\n\u001b[1;32m    105\u001b[0m \u001b[38;5;129m@wraps\u001b[39m(f)\n\u001b[1;32m    106\u001b[0m \u001b[38;5;28;01mdef\u001b[39;00m \u001b[38;5;21mdf\u001b[39m(\u001b[38;5;241m*\u001b[39margs, \u001b[38;5;241m*\u001b[39m\u001b[38;5;241m*\u001b[39mkwargs):\n\u001b[0;32m--> 107\u001b[0m     \u001b[38;5;28;01mreturn\u001b[39;00m \u001b[43mf\u001b[49m\u001b[43m(\u001b[49m\u001b[38;5;241;43m*\u001b[39;49m\u001b[43margs\u001b[49m\u001b[43m,\u001b[49m\u001b[43m \u001b[49m\u001b[38;5;241;43m*\u001b[39;49m\u001b[38;5;241;43m*\u001b[39;49m\u001b[43mkwargs\u001b[49m\u001b[43m)\u001b[49m\n",
      "File \u001b[0;32m~/.conda/envs/toastdev/lib/python3.9/site-packages/toast/ops/operator.py:107\u001b[0m, in \u001b[0;36mOperator.apply\u001b[0;34m(self, data, detectors, use_accel, **kwargs)\u001b[0m\n\u001b[1;32m     86\u001b[0m \u001b[38;5;129m@function_timer_stackskip\u001b[39m\n\u001b[1;32m     87\u001b[0m \u001b[38;5;28;01mdef\u001b[39;00m \u001b[38;5;21mapply\u001b[39m(\u001b[38;5;28mself\u001b[39m, data, detectors\u001b[38;5;241m=\u001b[39m\u001b[38;5;28;01mNone\u001b[39;00m, use_accel\u001b[38;5;241m=\u001b[39m\u001b[38;5;28;01mNone\u001b[39;00m, \u001b[38;5;241m*\u001b[39m\u001b[38;5;241m*\u001b[39mkwargs):\n\u001b[1;32m     88\u001b[0m \u001b[38;5;250m    \u001b[39m\u001b[38;5;124;03m\"\"\"Run exec() and finalize().\u001b[39;00m\n\u001b[1;32m     89\u001b[0m \n\u001b[1;32m     90\u001b[0m \u001b[38;5;124;03m    This is a convenience wrapper that calls exec() exactly once with an optional\u001b[39;00m\n\u001b[0;32m   (...)\u001b[0m\n\u001b[1;32m    105\u001b[0m \n\u001b[1;32m    106\u001b[0m \u001b[38;5;124;03m    \"\"\"\u001b[39;00m\n\u001b[0;32m--> 107\u001b[0m     \u001b[38;5;28;43mself\u001b[39;49m\u001b[38;5;241;43m.\u001b[39;49m\u001b[43mexec\u001b[49m\u001b[43m(\u001b[49m\u001b[43mdata\u001b[49m\u001b[43m,\u001b[49m\u001b[43m \u001b[49m\u001b[43mdetectors\u001b[49m\u001b[43m,\u001b[49m\u001b[43m \u001b[49m\u001b[43muse_accel\u001b[49m\u001b[38;5;241;43m=\u001b[39;49m\u001b[43muse_accel\u001b[49m\u001b[43m,\u001b[49m\u001b[43m \u001b[49m\u001b[38;5;241;43m*\u001b[39;49m\u001b[38;5;241;43m*\u001b[39;49m\u001b[43mkwargs\u001b[49m\u001b[43m)\u001b[49m\n\u001b[1;32m    108\u001b[0m     \u001b[38;5;28;01mreturn\u001b[39;00m \u001b[38;5;28mself\u001b[39m\u001b[38;5;241m.\u001b[39mfinalize(data, use_accel\u001b[38;5;241m=\u001b[39muse_accel, \u001b[38;5;241m*\u001b[39m\u001b[38;5;241m*\u001b[39mkwargs)\n",
      "File \u001b[0;32m~/.conda/envs/toastdev/lib/python3.9/site-packages/toast/timing.py:107\u001b[0m, in \u001b[0;36mfunction_timer_stackskip.<locals>.df\u001b[0;34m(*args, **kwargs)\u001b[0m\n\u001b[1;32m    105\u001b[0m \u001b[38;5;129m@wraps\u001b[39m(f)\n\u001b[1;32m    106\u001b[0m \u001b[38;5;28;01mdef\u001b[39;00m \u001b[38;5;21mdf\u001b[39m(\u001b[38;5;241m*\u001b[39margs, \u001b[38;5;241m*\u001b[39m\u001b[38;5;241m*\u001b[39mkwargs):\n\u001b[0;32m--> 107\u001b[0m     \u001b[38;5;28;01mreturn\u001b[39;00m \u001b[43mf\u001b[49m\u001b[43m(\u001b[49m\u001b[38;5;241;43m*\u001b[39;49m\u001b[43margs\u001b[49m\u001b[43m,\u001b[49m\u001b[43m \u001b[49m\u001b[38;5;241;43m*\u001b[39;49m\u001b[38;5;241;43m*\u001b[39;49m\u001b[43mkwargs\u001b[49m\u001b[43m)\u001b[49m\n",
      "File \u001b[0;32m~/.conda/envs/toastdev/lib/python3.9/site-packages/toast/ops/operator.py:47\u001b[0m, in \u001b[0;36mOperator.exec\u001b[0;34m(self, data, detectors, use_accel, **kwargs)\u001b[0m\n\u001b[1;32m     45\u001b[0m log \u001b[38;5;241m=\u001b[39m Logger\u001b[38;5;241m.\u001b[39mget()\n\u001b[1;32m     46\u001b[0m \u001b[38;5;28;01mif\u001b[39;00m \u001b[38;5;28mself\u001b[39m\u001b[38;5;241m.\u001b[39menabled:\n\u001b[0;32m---> 47\u001b[0m     \u001b[38;5;28;43mself\u001b[39;49m\u001b[38;5;241;43m.\u001b[39;49m\u001b[43m_exec\u001b[49m\u001b[43m(\u001b[49m\n\u001b[1;32m     48\u001b[0m \u001b[43m        \u001b[49m\u001b[43mdata\u001b[49m\u001b[43m,\u001b[49m\n\u001b[1;32m     49\u001b[0m \u001b[43m        \u001b[49m\u001b[43mdetectors\u001b[49m\u001b[38;5;241;43m=\u001b[39;49m\u001b[43mdetectors\u001b[49m\u001b[43m,\u001b[49m\n\u001b[1;32m     50\u001b[0m \u001b[43m        \u001b[49m\u001b[43muse_accel\u001b[49m\u001b[38;5;241;43m=\u001b[39;49m\u001b[43muse_accel\u001b[49m\u001b[43m,\u001b[49m\n\u001b[1;32m     51\u001b[0m \u001b[43m        \u001b[49m\u001b[38;5;241;43m*\u001b[39;49m\u001b[38;5;241;43m*\u001b[39;49m\u001b[43mkwargs\u001b[49m\u001b[43m,\u001b[49m\n\u001b[1;32m     52\u001b[0m \u001b[43m    \u001b[49m\u001b[43m)\u001b[49m\n\u001b[1;32m     53\u001b[0m \u001b[38;5;28;01melse\u001b[39;00m:\n\u001b[1;32m     54\u001b[0m     \u001b[38;5;28;01mif\u001b[39;00m data\u001b[38;5;241m.\u001b[39mcomm\u001b[38;5;241m.\u001b[39mworld_rank \u001b[38;5;241m==\u001b[39m \u001b[38;5;241m0\u001b[39m:\n",
      "File \u001b[0;32m~/.conda/envs/toastdev/lib/python3.9/site-packages/toast/timing.py:81\u001b[0m, in \u001b[0;36mfunction_timer.<locals>.df\u001b[0;34m(*args, **kwargs)\u001b[0m\n\u001b[1;32m     79\u001b[0m \u001b[38;5;129m@wraps\u001b[39m(f)\n\u001b[1;32m     80\u001b[0m \u001b[38;5;28;01mdef\u001b[39;00m \u001b[38;5;21mdf\u001b[39m(\u001b[38;5;241m*\u001b[39margs, \u001b[38;5;241m*\u001b[39m\u001b[38;5;241m*\u001b[39mkwargs):\n\u001b[0;32m---> 81\u001b[0m     \u001b[38;5;28;01mreturn\u001b[39;00m \u001b[43mf\u001b[49m\u001b[43m(\u001b[49m\u001b[38;5;241;43m*\u001b[39;49m\u001b[43margs\u001b[49m\u001b[43m,\u001b[49m\u001b[43m \u001b[49m\u001b[38;5;241;43m*\u001b[39;49m\u001b[38;5;241;43m*\u001b[39;49m\u001b[43mkwargs\u001b[49m\u001b[43m)\u001b[49m\n",
      "File \u001b[0;32m~/.conda/envs/toastdev/lib/python3.9/site-packages/toast/ops/mapmaker_templates.py:1107\u001b[0m, in \u001b[0;36mSolveAmplitudes._exec\u001b[0;34m(self, data, detectors, use_accel, **kwargs)\u001b[0m\n\u001b[1;32m   1103\u001b[0m \u001b[38;5;28mself\u001b[39m\u001b[38;5;241m.\u001b[39m_timer\u001b[38;5;241m.\u001b[39mstart()\n\u001b[1;32m   1105\u001b[0m \u001b[38;5;28mself\u001b[39m\u001b[38;5;241m.\u001b[39m_prepare_flagging(solve_pixels)\n\u001b[0;32m-> 1107\u001b[0m \u001b[38;5;28;43mself\u001b[39;49m\u001b[38;5;241;43m.\u001b[39;49m\u001b[43m_get_pixel_covariance\u001b[49m\u001b[43m(\u001b[49m\u001b[43msolve_pixels\u001b[49m\u001b[43m,\u001b[49m\u001b[43m \u001b[49m\u001b[43msolve_weights\u001b[49m\u001b[43m)\u001b[49m\n\u001b[1;32m   1108\u001b[0m \u001b[38;5;28mself\u001b[39m\u001b[38;5;241m.\u001b[39m_write_del(\u001b[38;5;28mself\u001b[39m\u001b[38;5;241m.\u001b[39msolver_hits_name)\n\u001b[1;32m   1110\u001b[0m \u001b[38;5;28mself\u001b[39m\u001b[38;5;241m.\u001b[39m_get_rcond_mask(scan_pipe)\n",
      "File \u001b[0;32m~/.conda/envs/toastdev/lib/python3.9/site-packages/toast/timing.py:81\u001b[0m, in \u001b[0;36mfunction_timer.<locals>.df\u001b[0;34m(*args, **kwargs)\u001b[0m\n\u001b[1;32m     79\u001b[0m \u001b[38;5;129m@wraps\u001b[39m(f)\n\u001b[1;32m     80\u001b[0m \u001b[38;5;28;01mdef\u001b[39;00m \u001b[38;5;21mdf\u001b[39m(\u001b[38;5;241m*\u001b[39margs, \u001b[38;5;241m*\u001b[39m\u001b[38;5;241m*\u001b[39mkwargs):\n\u001b[0;32m---> 81\u001b[0m     \u001b[38;5;28;01mreturn\u001b[39;00m \u001b[43mf\u001b[49m\u001b[43m(\u001b[49m\u001b[38;5;241;43m*\u001b[39;49m\u001b[43margs\u001b[49m\u001b[43m,\u001b[49m\u001b[43m \u001b[49m\u001b[38;5;241;43m*\u001b[39;49m\u001b[38;5;241;43m*\u001b[39;49m\u001b[43mkwargs\u001b[49m\u001b[43m)\u001b[49m\n",
      "File \u001b[0;32m~/.conda/envs/toastdev/lib/python3.9/site-packages/toast/ops/mapmaker_templates.py:893\u001b[0m, in \u001b[0;36mSolveAmplitudes._get_pixel_covariance\u001b[0;34m(self, solve_pixels, solve_weights)\u001b[0m\n\u001b[1;32m    871\u001b[0m \u001b[38;5;28mself\u001b[39m\u001b[38;5;241m.\u001b[39m_log\u001b[38;5;241m.\u001b[39minfo_rank(\n\u001b[1;32m    872\u001b[0m     \u001b[38;5;124mf\u001b[39m\u001b[38;5;124m\"\u001b[39m\u001b[38;5;132;01m{\u001b[39;00m\u001b[38;5;28mself\u001b[39m\u001b[38;5;241m.\u001b[39m_log_prefix\u001b[38;5;132;01m}\u001b[39;00m\u001b[38;5;124m begin build of solver covariance\u001b[39m\u001b[38;5;124m\"\u001b[39m,\n\u001b[1;32m    873\u001b[0m     comm\u001b[38;5;241m=\u001b[39m\u001b[38;5;28mself\u001b[39m\u001b[38;5;241m.\u001b[39m_comm,\n\u001b[1;32m    874\u001b[0m )\n\u001b[1;32m    876\u001b[0m solver_cov \u001b[38;5;241m=\u001b[39m CovarianceAndHits(\n\u001b[1;32m    877\u001b[0m     pixel_dist\u001b[38;5;241m=\u001b[39m\u001b[38;5;28mself\u001b[39m\u001b[38;5;241m.\u001b[39mbinning\u001b[38;5;241m.\u001b[39mpixel_dist,\n\u001b[1;32m    878\u001b[0m     covariance\u001b[38;5;241m=\u001b[39m\u001b[38;5;28mself\u001b[39m\u001b[38;5;241m.\u001b[39msolver_cov_name,\n\u001b[0;32m   (...)\u001b[0m\n\u001b[1;32m    890\u001b[0m     save_pointing\u001b[38;5;241m=\u001b[39m\u001b[38;5;28mself\u001b[39m\u001b[38;5;241m.\u001b[39mbinning\u001b[38;5;241m.\u001b[39mfull_pointing,\n\u001b[1;32m    891\u001b[0m )\n\u001b[0;32m--> 893\u001b[0m \u001b[43msolver_cov\u001b[49m\u001b[38;5;241;43m.\u001b[39;49m\u001b[43mapply\u001b[49m\u001b[43m(\u001b[49m\u001b[38;5;28;43mself\u001b[39;49m\u001b[38;5;241;43m.\u001b[39;49m\u001b[43m_data\u001b[49m\u001b[43m,\u001b[49m\u001b[43m \u001b[49m\u001b[43mdetectors\u001b[49m\u001b[38;5;241;43m=\u001b[39;49m\u001b[38;5;28;43mself\u001b[39;49m\u001b[38;5;241;43m.\u001b[39;49m\u001b[43m_detectors\u001b[49m\u001b[43m)\u001b[49m\n\u001b[1;32m    895\u001b[0m \u001b[38;5;28mself\u001b[39m\u001b[38;5;241m.\u001b[39m_memreport\u001b[38;5;241m.\u001b[39mprefix \u001b[38;5;241m=\u001b[39m \u001b[38;5;124m\"\u001b[39m\u001b[38;5;124mAfter constructing covariance and hits\u001b[39m\u001b[38;5;124m\"\u001b[39m\n\u001b[1;32m    896\u001b[0m \u001b[38;5;28mself\u001b[39m\u001b[38;5;241m.\u001b[39m_memreport\u001b[38;5;241m.\u001b[39mapply(\u001b[38;5;28mself\u001b[39m\u001b[38;5;241m.\u001b[39m_data)\n",
      "File \u001b[0;32m~/.conda/envs/toastdev/lib/python3.9/site-packages/toast/timing.py:107\u001b[0m, in \u001b[0;36mfunction_timer_stackskip.<locals>.df\u001b[0;34m(*args, **kwargs)\u001b[0m\n\u001b[1;32m    105\u001b[0m \u001b[38;5;129m@wraps\u001b[39m(f)\n\u001b[1;32m    106\u001b[0m \u001b[38;5;28;01mdef\u001b[39;00m \u001b[38;5;21mdf\u001b[39m(\u001b[38;5;241m*\u001b[39margs, \u001b[38;5;241m*\u001b[39m\u001b[38;5;241m*\u001b[39mkwargs):\n\u001b[0;32m--> 107\u001b[0m     \u001b[38;5;28;01mreturn\u001b[39;00m \u001b[43mf\u001b[49m\u001b[43m(\u001b[49m\u001b[38;5;241;43m*\u001b[39;49m\u001b[43margs\u001b[49m\u001b[43m,\u001b[49m\u001b[43m \u001b[49m\u001b[38;5;241;43m*\u001b[39;49m\u001b[38;5;241;43m*\u001b[39;49m\u001b[43mkwargs\u001b[49m\u001b[43m)\u001b[49m\n",
      "File \u001b[0;32m~/.conda/envs/toastdev/lib/python3.9/site-packages/toast/ops/operator.py:107\u001b[0m, in \u001b[0;36mOperator.apply\u001b[0;34m(self, data, detectors, use_accel, **kwargs)\u001b[0m\n\u001b[1;32m     86\u001b[0m \u001b[38;5;129m@function_timer_stackskip\u001b[39m\n\u001b[1;32m     87\u001b[0m \u001b[38;5;28;01mdef\u001b[39;00m \u001b[38;5;21mapply\u001b[39m(\u001b[38;5;28mself\u001b[39m, data, detectors\u001b[38;5;241m=\u001b[39m\u001b[38;5;28;01mNone\u001b[39;00m, use_accel\u001b[38;5;241m=\u001b[39m\u001b[38;5;28;01mNone\u001b[39;00m, \u001b[38;5;241m*\u001b[39m\u001b[38;5;241m*\u001b[39mkwargs):\n\u001b[1;32m     88\u001b[0m \u001b[38;5;250m    \u001b[39m\u001b[38;5;124;03m\"\"\"Run exec() and finalize().\u001b[39;00m\n\u001b[1;32m     89\u001b[0m \n\u001b[1;32m     90\u001b[0m \u001b[38;5;124;03m    This is a convenience wrapper that calls exec() exactly once with an optional\u001b[39;00m\n\u001b[0;32m   (...)\u001b[0m\n\u001b[1;32m    105\u001b[0m \n\u001b[1;32m    106\u001b[0m \u001b[38;5;124;03m    \"\"\"\u001b[39;00m\n\u001b[0;32m--> 107\u001b[0m     \u001b[38;5;28;43mself\u001b[39;49m\u001b[38;5;241;43m.\u001b[39;49m\u001b[43mexec\u001b[49m\u001b[43m(\u001b[49m\u001b[43mdata\u001b[49m\u001b[43m,\u001b[49m\u001b[43m \u001b[49m\u001b[43mdetectors\u001b[49m\u001b[43m,\u001b[49m\u001b[43m \u001b[49m\u001b[43muse_accel\u001b[49m\u001b[38;5;241;43m=\u001b[39;49m\u001b[43muse_accel\u001b[49m\u001b[43m,\u001b[49m\u001b[43m \u001b[49m\u001b[38;5;241;43m*\u001b[39;49m\u001b[38;5;241;43m*\u001b[39;49m\u001b[43mkwargs\u001b[49m\u001b[43m)\u001b[49m\n\u001b[1;32m    108\u001b[0m     \u001b[38;5;28;01mreturn\u001b[39;00m \u001b[38;5;28mself\u001b[39m\u001b[38;5;241m.\u001b[39mfinalize(data, use_accel\u001b[38;5;241m=\u001b[39muse_accel, \u001b[38;5;241m*\u001b[39m\u001b[38;5;241m*\u001b[39mkwargs)\n",
      "File \u001b[0;32m~/.conda/envs/toastdev/lib/python3.9/site-packages/toast/timing.py:107\u001b[0m, in \u001b[0;36mfunction_timer_stackskip.<locals>.df\u001b[0;34m(*args, **kwargs)\u001b[0m\n\u001b[1;32m    105\u001b[0m \u001b[38;5;129m@wraps\u001b[39m(f)\n\u001b[1;32m    106\u001b[0m \u001b[38;5;28;01mdef\u001b[39;00m \u001b[38;5;21mdf\u001b[39m(\u001b[38;5;241m*\u001b[39margs, \u001b[38;5;241m*\u001b[39m\u001b[38;5;241m*\u001b[39mkwargs):\n\u001b[0;32m--> 107\u001b[0m     \u001b[38;5;28;01mreturn\u001b[39;00m \u001b[43mf\u001b[49m\u001b[43m(\u001b[49m\u001b[38;5;241;43m*\u001b[39;49m\u001b[43margs\u001b[49m\u001b[43m,\u001b[49m\u001b[43m \u001b[49m\u001b[38;5;241;43m*\u001b[39;49m\u001b[38;5;241;43m*\u001b[39;49m\u001b[43mkwargs\u001b[49m\u001b[43m)\u001b[49m\n",
      "File \u001b[0;32m~/.conda/envs/toastdev/lib/python3.9/site-packages/toast/ops/operator.py:47\u001b[0m, in \u001b[0;36mOperator.exec\u001b[0;34m(self, data, detectors, use_accel, **kwargs)\u001b[0m\n\u001b[1;32m     45\u001b[0m log \u001b[38;5;241m=\u001b[39m Logger\u001b[38;5;241m.\u001b[39mget()\n\u001b[1;32m     46\u001b[0m \u001b[38;5;28;01mif\u001b[39;00m \u001b[38;5;28mself\u001b[39m\u001b[38;5;241m.\u001b[39menabled:\n\u001b[0;32m---> 47\u001b[0m     \u001b[38;5;28;43mself\u001b[39;49m\u001b[38;5;241;43m.\u001b[39;49m\u001b[43m_exec\u001b[49m\u001b[43m(\u001b[49m\n\u001b[1;32m     48\u001b[0m \u001b[43m        \u001b[49m\u001b[43mdata\u001b[49m\u001b[43m,\u001b[49m\n\u001b[1;32m     49\u001b[0m \u001b[43m        \u001b[49m\u001b[43mdetectors\u001b[49m\u001b[38;5;241;43m=\u001b[39;49m\u001b[43mdetectors\u001b[49m\u001b[43m,\u001b[49m\n\u001b[1;32m     50\u001b[0m \u001b[43m        \u001b[49m\u001b[43muse_accel\u001b[49m\u001b[38;5;241;43m=\u001b[39;49m\u001b[43muse_accel\u001b[49m\u001b[43m,\u001b[49m\n\u001b[1;32m     51\u001b[0m \u001b[43m        \u001b[49m\u001b[38;5;241;43m*\u001b[39;49m\u001b[38;5;241;43m*\u001b[39;49m\u001b[43mkwargs\u001b[49m\u001b[43m,\u001b[49m\n\u001b[1;32m     52\u001b[0m \u001b[43m    \u001b[49m\u001b[43m)\u001b[49m\n\u001b[1;32m     53\u001b[0m \u001b[38;5;28;01melse\u001b[39;00m:\n\u001b[1;32m     54\u001b[0m     \u001b[38;5;28;01mif\u001b[39;00m data\u001b[38;5;241m.\u001b[39mcomm\u001b[38;5;241m.\u001b[39mworld_rank \u001b[38;5;241m==\u001b[39m \u001b[38;5;241m0\u001b[39m:\n",
      "File \u001b[0;32m~/.conda/envs/toastdev/lib/python3.9/site-packages/toast/timing.py:81\u001b[0m, in \u001b[0;36mfunction_timer.<locals>.df\u001b[0;34m(*args, **kwargs)\u001b[0m\n\u001b[1;32m     79\u001b[0m \u001b[38;5;129m@wraps\u001b[39m(f)\n\u001b[1;32m     80\u001b[0m \u001b[38;5;28;01mdef\u001b[39;00m \u001b[38;5;21mdf\u001b[39m(\u001b[38;5;241m*\u001b[39margs, \u001b[38;5;241m*\u001b[39m\u001b[38;5;241m*\u001b[39mkwargs):\n\u001b[0;32m---> 81\u001b[0m     \u001b[38;5;28;01mreturn\u001b[39;00m \u001b[43mf\u001b[49m\u001b[43m(\u001b[49m\u001b[38;5;241;43m*\u001b[39;49m\u001b[43margs\u001b[49m\u001b[43m,\u001b[49m\u001b[43m \u001b[49m\u001b[38;5;241;43m*\u001b[39;49m\u001b[38;5;241;43m*\u001b[39;49m\u001b[43mkwargs\u001b[49m\u001b[43m)\u001b[49m\n",
      "File \u001b[0;32m~/.conda/envs/toastdev/lib/python3.9/site-packages/toast/ops/mapmaker_utils/mapmaker_utils.py:1226\u001b[0m, in \u001b[0;36mCovarianceAndHits._exec\u001b[0;34m(self, data, detectors, **kwargs)\u001b[0m\n\u001b[1;32m   1218\u001b[0m     accum \u001b[38;5;241m=\u001b[39m Pipeline(detector_sets\u001b[38;5;241m=\u001b[39m[\u001b[38;5;124m\"\u001b[39m\u001b[38;5;124mSINGLE\u001b[39m\u001b[38;5;124m\"\u001b[39m])\n\u001b[1;32m   1219\u001b[0m accum\u001b[38;5;241m.\u001b[39moperators \u001b[38;5;241m=\u001b[39m [\n\u001b[1;32m   1220\u001b[0m     \u001b[38;5;28mself\u001b[39m\u001b[38;5;241m.\u001b[39mpixel_pointing,\n\u001b[1;32m   1221\u001b[0m     \u001b[38;5;28mself\u001b[39m\u001b[38;5;241m.\u001b[39mstokes_weights,\n\u001b[1;32m   1222\u001b[0m     build_hits,\n\u001b[1;32m   1223\u001b[0m     build_invcov,\n\u001b[1;32m   1224\u001b[0m ]\n\u001b[0;32m-> 1226\u001b[0m pipe_out \u001b[38;5;241m=\u001b[39m \u001b[43maccum\u001b[49m\u001b[38;5;241;43m.\u001b[39;49m\u001b[43mapply\u001b[49m\u001b[43m(\u001b[49m\u001b[43mdata\u001b[49m\u001b[43m,\u001b[49m\u001b[43m \u001b[49m\u001b[43mdetectors\u001b[49m\u001b[38;5;241;43m=\u001b[39;49m\u001b[43mdetectors\u001b[49m\u001b[43m)\u001b[49m\n\u001b[1;32m   1228\u001b[0m \u001b[38;5;66;03m# Optionally, store the inverse covariance\u001b[39;00m\n\u001b[1;32m   1229\u001b[0m \u001b[38;5;28;01mif\u001b[39;00m \u001b[38;5;28mself\u001b[39m\u001b[38;5;241m.\u001b[39minverse_covariance \u001b[38;5;129;01mis\u001b[39;00m \u001b[38;5;129;01mnot\u001b[39;00m \u001b[38;5;28;01mNone\u001b[39;00m:\n",
      "File \u001b[0;32m~/.conda/envs/toastdev/lib/python3.9/site-packages/toast/timing.py:107\u001b[0m, in \u001b[0;36mfunction_timer_stackskip.<locals>.df\u001b[0;34m(*args, **kwargs)\u001b[0m\n\u001b[1;32m    105\u001b[0m \u001b[38;5;129m@wraps\u001b[39m(f)\n\u001b[1;32m    106\u001b[0m \u001b[38;5;28;01mdef\u001b[39;00m \u001b[38;5;21mdf\u001b[39m(\u001b[38;5;241m*\u001b[39margs, \u001b[38;5;241m*\u001b[39m\u001b[38;5;241m*\u001b[39mkwargs):\n\u001b[0;32m--> 107\u001b[0m     \u001b[38;5;28;01mreturn\u001b[39;00m \u001b[43mf\u001b[49m\u001b[43m(\u001b[49m\u001b[38;5;241;43m*\u001b[39;49m\u001b[43margs\u001b[49m\u001b[43m,\u001b[49m\u001b[43m \u001b[49m\u001b[38;5;241;43m*\u001b[39;49m\u001b[38;5;241;43m*\u001b[39;49m\u001b[43mkwargs\u001b[49m\u001b[43m)\u001b[49m\n",
      "File \u001b[0;32m~/.conda/envs/toastdev/lib/python3.9/site-packages/toast/ops/operator.py:107\u001b[0m, in \u001b[0;36mOperator.apply\u001b[0;34m(self, data, detectors, use_accel, **kwargs)\u001b[0m\n\u001b[1;32m     86\u001b[0m \u001b[38;5;129m@function_timer_stackskip\u001b[39m\n\u001b[1;32m     87\u001b[0m \u001b[38;5;28;01mdef\u001b[39;00m \u001b[38;5;21mapply\u001b[39m(\u001b[38;5;28mself\u001b[39m, data, detectors\u001b[38;5;241m=\u001b[39m\u001b[38;5;28;01mNone\u001b[39;00m, use_accel\u001b[38;5;241m=\u001b[39m\u001b[38;5;28;01mNone\u001b[39;00m, \u001b[38;5;241m*\u001b[39m\u001b[38;5;241m*\u001b[39mkwargs):\n\u001b[1;32m     88\u001b[0m \u001b[38;5;250m    \u001b[39m\u001b[38;5;124;03m\"\"\"Run exec() and finalize().\u001b[39;00m\n\u001b[1;32m     89\u001b[0m \n\u001b[1;32m     90\u001b[0m \u001b[38;5;124;03m    This is a convenience wrapper that calls exec() exactly once with an optional\u001b[39;00m\n\u001b[0;32m   (...)\u001b[0m\n\u001b[1;32m    105\u001b[0m \n\u001b[1;32m    106\u001b[0m \u001b[38;5;124;03m    \"\"\"\u001b[39;00m\n\u001b[0;32m--> 107\u001b[0m     \u001b[38;5;28;43mself\u001b[39;49m\u001b[38;5;241;43m.\u001b[39;49m\u001b[43mexec\u001b[49m\u001b[43m(\u001b[49m\u001b[43mdata\u001b[49m\u001b[43m,\u001b[49m\u001b[43m \u001b[49m\u001b[43mdetectors\u001b[49m\u001b[43m,\u001b[49m\u001b[43m \u001b[49m\u001b[43muse_accel\u001b[49m\u001b[38;5;241;43m=\u001b[39;49m\u001b[43muse_accel\u001b[49m\u001b[43m,\u001b[49m\u001b[43m \u001b[49m\u001b[38;5;241;43m*\u001b[39;49m\u001b[38;5;241;43m*\u001b[39;49m\u001b[43mkwargs\u001b[49m\u001b[43m)\u001b[49m\n\u001b[1;32m    108\u001b[0m     \u001b[38;5;28;01mreturn\u001b[39;00m \u001b[38;5;28mself\u001b[39m\u001b[38;5;241m.\u001b[39mfinalize(data, use_accel\u001b[38;5;241m=\u001b[39muse_accel, \u001b[38;5;241m*\u001b[39m\u001b[38;5;241m*\u001b[39mkwargs)\n",
      "File \u001b[0;32m~/.conda/envs/toastdev/lib/python3.9/site-packages/toast/timing.py:107\u001b[0m, in \u001b[0;36mfunction_timer_stackskip.<locals>.df\u001b[0;34m(*args, **kwargs)\u001b[0m\n\u001b[1;32m    105\u001b[0m \u001b[38;5;129m@wraps\u001b[39m(f)\n\u001b[1;32m    106\u001b[0m \u001b[38;5;28;01mdef\u001b[39;00m \u001b[38;5;21mdf\u001b[39m(\u001b[38;5;241m*\u001b[39margs, \u001b[38;5;241m*\u001b[39m\u001b[38;5;241m*\u001b[39mkwargs):\n\u001b[0;32m--> 107\u001b[0m     \u001b[38;5;28;01mreturn\u001b[39;00m \u001b[43mf\u001b[49m\u001b[43m(\u001b[49m\u001b[38;5;241;43m*\u001b[39;49m\u001b[43margs\u001b[49m\u001b[43m,\u001b[49m\u001b[43m \u001b[49m\u001b[38;5;241;43m*\u001b[39;49m\u001b[38;5;241;43m*\u001b[39;49m\u001b[43mkwargs\u001b[49m\u001b[43m)\u001b[49m\n",
      "File \u001b[0;32m~/.conda/envs/toastdev/lib/python3.9/site-packages/toast/ops/operator.py:47\u001b[0m, in \u001b[0;36mOperator.exec\u001b[0;34m(self, data, detectors, use_accel, **kwargs)\u001b[0m\n\u001b[1;32m     45\u001b[0m log \u001b[38;5;241m=\u001b[39m Logger\u001b[38;5;241m.\u001b[39mget()\n\u001b[1;32m     46\u001b[0m \u001b[38;5;28;01mif\u001b[39;00m \u001b[38;5;28mself\u001b[39m\u001b[38;5;241m.\u001b[39menabled:\n\u001b[0;32m---> 47\u001b[0m     \u001b[38;5;28;43mself\u001b[39;49m\u001b[38;5;241;43m.\u001b[39;49m\u001b[43m_exec\u001b[49m\u001b[43m(\u001b[49m\n\u001b[1;32m     48\u001b[0m \u001b[43m        \u001b[49m\u001b[43mdata\u001b[49m\u001b[43m,\u001b[49m\n\u001b[1;32m     49\u001b[0m \u001b[43m        \u001b[49m\u001b[43mdetectors\u001b[49m\u001b[38;5;241;43m=\u001b[39;49m\u001b[43mdetectors\u001b[49m\u001b[43m,\u001b[49m\n\u001b[1;32m     50\u001b[0m \u001b[43m        \u001b[49m\u001b[43muse_accel\u001b[49m\u001b[38;5;241;43m=\u001b[39;49m\u001b[43muse_accel\u001b[49m\u001b[43m,\u001b[49m\n\u001b[1;32m     51\u001b[0m \u001b[43m        \u001b[49m\u001b[38;5;241;43m*\u001b[39;49m\u001b[38;5;241;43m*\u001b[39;49m\u001b[43mkwargs\u001b[49m\u001b[43m,\u001b[49m\n\u001b[1;32m     52\u001b[0m \u001b[43m    \u001b[49m\u001b[43m)\u001b[49m\n\u001b[1;32m     53\u001b[0m \u001b[38;5;28;01melse\u001b[39;00m:\n\u001b[1;32m     54\u001b[0m     \u001b[38;5;28;01mif\u001b[39;00m data\u001b[38;5;241m.\u001b[39mcomm\u001b[38;5;241m.\u001b[39mworld_rank \u001b[38;5;241m==\u001b[39m \u001b[38;5;241m0\u001b[39m:\n",
      "File \u001b[0;32m~/.conda/envs/toastdev/lib/python3.9/site-packages/toast/timing.py:81\u001b[0m, in \u001b[0;36mfunction_timer.<locals>.df\u001b[0;34m(*args, **kwargs)\u001b[0m\n\u001b[1;32m     79\u001b[0m \u001b[38;5;129m@wraps\u001b[39m(f)\n\u001b[1;32m     80\u001b[0m \u001b[38;5;28;01mdef\u001b[39;00m \u001b[38;5;21mdf\u001b[39m(\u001b[38;5;241m*\u001b[39margs, \u001b[38;5;241m*\u001b[39m\u001b[38;5;241m*\u001b[39mkwargs):\n\u001b[0;32m---> 81\u001b[0m     \u001b[38;5;28;01mreturn\u001b[39;00m \u001b[43mf\u001b[49m\u001b[43m(\u001b[49m\u001b[38;5;241;43m*\u001b[39;49m\u001b[43margs\u001b[49m\u001b[43m,\u001b[49m\u001b[43m \u001b[49m\u001b[38;5;241;43m*\u001b[39;49m\u001b[38;5;241;43m*\u001b[39;49m\u001b[43mkwargs\u001b[49m\u001b[43m)\u001b[49m\n",
      "File \u001b[0;32m~/.conda/envs/toastdev/lib/python3.9/site-packages/toast/ops/pipeline.py:166\u001b[0m, in \u001b[0;36mPipeline._exec\u001b[0;34m(self, data, detectors, use_accel, **kwargs)\u001b[0m\n\u001b[1;32m    164\u001b[0m             dets \u001b[38;5;241m=\u001b[39m [det]\n\u001b[1;32m    165\u001b[0m         \u001b[38;5;28;01mfor\u001b[39;00m op \u001b[38;5;129;01min\u001b[39;00m \u001b[38;5;28mself\u001b[39m\u001b[38;5;241m.\u001b[39moperators:\n\u001b[0;32m--> 166\u001b[0m             \u001b[38;5;28;43mself\u001b[39;49m\u001b[38;5;241;43m.\u001b[39;49m\u001b[43m_exec_operator\u001b[49m\u001b[43m(\u001b[49m\n\u001b[1;32m    167\u001b[0m \u001b[43m                \u001b[49m\u001b[43mop\u001b[49m\u001b[43m,\u001b[49m\n\u001b[1;32m    168\u001b[0m \u001b[43m                \u001b[49m\u001b[43mdata\u001b[49m\u001b[43m,\u001b[49m\n\u001b[1;32m    169\u001b[0m \u001b[43m                \u001b[49m\u001b[43mdetectors\u001b[49m\u001b[38;5;241;43m=\u001b[39;49m\u001b[43mdets\u001b[49m\u001b[43m,\u001b[49m\n\u001b[1;32m    170\u001b[0m \u001b[43m                \u001b[49m\u001b[43mpipe_accel\u001b[49m\u001b[38;5;241;43m=\u001b[39;49m\u001b[43mpipe_accel\u001b[49m\u001b[43m,\u001b[49m\n\u001b[1;32m    171\u001b[0m \u001b[43m            \u001b[49m\u001b[43m)\u001b[49m\n\u001b[1;32m    172\u001b[0m \u001b[38;5;28;01melse\u001b[39;00m:\n\u001b[1;32m    173\u001b[0m     \u001b[38;5;66;03m# We have explicit detector sets\u001b[39;00m\n\u001b[1;32m    174\u001b[0m     det_check \u001b[38;5;241m=\u001b[39m \u001b[38;5;28mset\u001b[39m(detectors)\n",
      "File \u001b[0;32m~/.conda/envs/toastdev/lib/python3.9/site-packages/toast/timing.py:81\u001b[0m, in \u001b[0;36mfunction_timer.<locals>.df\u001b[0;34m(*args, **kwargs)\u001b[0m\n\u001b[1;32m     79\u001b[0m \u001b[38;5;129m@wraps\u001b[39m(f)\n\u001b[1;32m     80\u001b[0m \u001b[38;5;28;01mdef\u001b[39;00m \u001b[38;5;21mdf\u001b[39m(\u001b[38;5;241m*\u001b[39margs, \u001b[38;5;241m*\u001b[39m\u001b[38;5;241m*\u001b[39mkwargs):\n\u001b[0;32m---> 81\u001b[0m     \u001b[38;5;28;01mreturn\u001b[39;00m \u001b[43mf\u001b[49m\u001b[43m(\u001b[49m\u001b[38;5;241;43m*\u001b[39;49m\u001b[43margs\u001b[49m\u001b[43m,\u001b[49m\u001b[43m \u001b[49m\u001b[38;5;241;43m*\u001b[39;49m\u001b[38;5;241;43m*\u001b[39;49m\u001b[43mkwargs\u001b[49m\u001b[43m)\u001b[49m\n",
      "File \u001b[0;32m~/.conda/envs/toastdev/lib/python3.9/site-packages/toast/ops/pipeline.py:262\u001b[0m, in \u001b[0;36mPipeline._exec_operator\u001b[0;34m(self, op, data, detectors, pipe_accel)\u001b[0m\n\u001b[1;32m    260\u001b[0m         log\u001b[38;5;241m.\u001b[39mverbose(msg)\n\u001b[1;32m    261\u001b[0m \u001b[38;5;66;03m# runs operator\u001b[39;00m\n\u001b[0;32m--> 262\u001b[0m \u001b[43mop\u001b[49m\u001b[38;5;241;43m.\u001b[39;49m\u001b[43mexec\u001b[49m\u001b[43m(\u001b[49m\u001b[43mdata\u001b[49m\u001b[43m,\u001b[49m\u001b[43m \u001b[49m\u001b[43mdetectors\u001b[49m\u001b[38;5;241;43m=\u001b[39;49m\u001b[43mdetectors\u001b[49m\u001b[43m,\u001b[49m\u001b[43m \u001b[49m\u001b[43muse_accel\u001b[49m\u001b[38;5;241;43m=\u001b[39;49m\u001b[43mrun_accel\u001b[49m\u001b[43m)\u001b[49m\n",
      "File \u001b[0;32m~/.conda/envs/toastdev/lib/python3.9/site-packages/toast/timing.py:107\u001b[0m, in \u001b[0;36mfunction_timer_stackskip.<locals>.df\u001b[0;34m(*args, **kwargs)\u001b[0m\n\u001b[1;32m    105\u001b[0m \u001b[38;5;129m@wraps\u001b[39m(f)\n\u001b[1;32m    106\u001b[0m \u001b[38;5;28;01mdef\u001b[39;00m \u001b[38;5;21mdf\u001b[39m(\u001b[38;5;241m*\u001b[39margs, \u001b[38;5;241m*\u001b[39m\u001b[38;5;241m*\u001b[39mkwargs):\n\u001b[0;32m--> 107\u001b[0m     \u001b[38;5;28;01mreturn\u001b[39;00m \u001b[43mf\u001b[49m\u001b[43m(\u001b[49m\u001b[38;5;241;43m*\u001b[39;49m\u001b[43margs\u001b[49m\u001b[43m,\u001b[49m\u001b[43m \u001b[49m\u001b[38;5;241;43m*\u001b[39;49m\u001b[38;5;241;43m*\u001b[39;49m\u001b[43mkwargs\u001b[49m\u001b[43m)\u001b[49m\n",
      "File \u001b[0;32m~/.conda/envs/toastdev/lib/python3.9/site-packages/toast/ops/operator.py:47\u001b[0m, in \u001b[0;36mOperator.exec\u001b[0;34m(self, data, detectors, use_accel, **kwargs)\u001b[0m\n\u001b[1;32m     45\u001b[0m log \u001b[38;5;241m=\u001b[39m Logger\u001b[38;5;241m.\u001b[39mget()\n\u001b[1;32m     46\u001b[0m \u001b[38;5;28;01mif\u001b[39;00m \u001b[38;5;28mself\u001b[39m\u001b[38;5;241m.\u001b[39menabled:\n\u001b[0;32m---> 47\u001b[0m     \u001b[38;5;28;43mself\u001b[39;49m\u001b[38;5;241;43m.\u001b[39;49m\u001b[43m_exec\u001b[49m\u001b[43m(\u001b[49m\n\u001b[1;32m     48\u001b[0m \u001b[43m        \u001b[49m\u001b[43mdata\u001b[49m\u001b[43m,\u001b[49m\n\u001b[1;32m     49\u001b[0m \u001b[43m        \u001b[49m\u001b[43mdetectors\u001b[49m\u001b[38;5;241;43m=\u001b[39;49m\u001b[43mdetectors\u001b[49m\u001b[43m,\u001b[49m\n\u001b[1;32m     50\u001b[0m \u001b[43m        \u001b[49m\u001b[43muse_accel\u001b[49m\u001b[38;5;241;43m=\u001b[39;49m\u001b[43muse_accel\u001b[49m\u001b[43m,\u001b[49m\n\u001b[1;32m     51\u001b[0m \u001b[43m        \u001b[49m\u001b[38;5;241;43m*\u001b[39;49m\u001b[38;5;241;43m*\u001b[39;49m\u001b[43mkwargs\u001b[49m\u001b[43m,\u001b[49m\n\u001b[1;32m     52\u001b[0m \u001b[43m    \u001b[49m\u001b[43m)\u001b[49m\n\u001b[1;32m     53\u001b[0m \u001b[38;5;28;01melse\u001b[39;00m:\n\u001b[1;32m     54\u001b[0m     \u001b[38;5;28;01mif\u001b[39;00m data\u001b[38;5;241m.\u001b[39mcomm\u001b[38;5;241m.\u001b[39mworld_rank \u001b[38;5;241m==\u001b[39m \u001b[38;5;241m0\u001b[39m:\n",
      "File \u001b[0;32m~/.conda/envs/toastdev/lib/python3.9/site-packages/toast/timing.py:81\u001b[0m, in \u001b[0;36mfunction_timer.<locals>.df\u001b[0;34m(*args, **kwargs)\u001b[0m\n\u001b[1;32m     79\u001b[0m \u001b[38;5;129m@wraps\u001b[39m(f)\n\u001b[1;32m     80\u001b[0m \u001b[38;5;28;01mdef\u001b[39;00m \u001b[38;5;21mdf\u001b[39m(\u001b[38;5;241m*\u001b[39margs, \u001b[38;5;241m*\u001b[39m\u001b[38;5;241m*\u001b[39mkwargs):\n\u001b[0;32m---> 81\u001b[0m     \u001b[38;5;28;01mreturn\u001b[39;00m \u001b[43mf\u001b[49m\u001b[43m(\u001b[49m\u001b[38;5;241;43m*\u001b[39;49m\u001b[43margs\u001b[49m\u001b[43m,\u001b[49m\u001b[43m \u001b[49m\u001b[38;5;241;43m*\u001b[39;49m\u001b[38;5;241;43m*\u001b[39;49m\u001b[43mkwargs\u001b[49m\u001b[43m)\u001b[49m\n",
      "File \u001b[0;32m~/.conda/envs/toastdev/lib/python3.9/site-packages/toast/ops/mapmaker_utils/mapmaker_utils.py:446\u001b[0m, in \u001b[0;36mBuildInverseCovariance._exec\u001b[0;34m(self, data, detectors, use_accel, **kwargs)\u001b[0m\n\u001b[1;32m    442\u001b[0m \u001b[38;5;28;01mif\u001b[39;00m \u001b[38;5;28mself\u001b[39m\u001b[38;5;241m.\u001b[39mnoise_model \u001b[38;5;129;01mnot\u001b[39;00m \u001b[38;5;129;01min\u001b[39;00m ob:\n\u001b[1;32m    443\u001b[0m     msg \u001b[38;5;241m=\u001b[39m \u001b[38;5;124m\"\u001b[39m\u001b[38;5;124mNoise model \u001b[39m\u001b[38;5;132;01m{}\u001b[39;00m\u001b[38;5;124m does not exist in observation \u001b[39m\u001b[38;5;132;01m{}\u001b[39;00m\u001b[38;5;124m\"\u001b[39m\u001b[38;5;241m.\u001b[39mformat(\n\u001b[1;32m    444\u001b[0m         \u001b[38;5;28mself\u001b[39m\u001b[38;5;241m.\u001b[39mnoise_model, ob\u001b[38;5;241m.\u001b[39mname\n\u001b[1;32m    445\u001b[0m     )\n\u001b[0;32m--> 446\u001b[0m     \u001b[38;5;28;01mraise\u001b[39;00m \u001b[38;5;167;01mRuntimeError\u001b[39;00m(msg)\n\u001b[1;32m    448\u001b[0m noise \u001b[38;5;241m=\u001b[39m ob[\u001b[38;5;28mself\u001b[39m\u001b[38;5;241m.\u001b[39mnoise_model]\n\u001b[1;32m    450\u001b[0m \u001b[38;5;66;03m# The pixels and weights view for this observation\u001b[39;00m\n",
      "\u001b[0;31mRuntimeError\u001b[0m: Noise model noise_model does not exist in observation POLE_DEEP-169-7"
     ]
    }
   ],
   "source": [
    "binner.det_data = 'Planck'\n",
    "mapmaker.binning= binner\n",
    "mapmaker.det_data = 'Planck'\n",
    "mapmaker.output_dir = './Planck'\n",
    "mapmaker.apply(data)"
   ]
  },
  {
   "cell_type": "code",
   "execution_count": null,
   "id": "464c56dd-d55a-4f15-93fa-e7acb7cf6586",
   "metadata": {},
   "outputs": [],
   "source": []
  }
 ],
 "metadata": {
  "kernelspec": {
   "display_name": "Toastdev",
   "language": "python",
   "name": "toastdev"
  },
  "language_info": {
   "codemirror_mode": {
    "name": "ipython",
    "version": 3
   },
   "file_extension": ".py",
   "mimetype": "text/x-python",
   "name": "python",
   "nbconvert_exporter": "python",
   "pygments_lexer": "ipython3",
   "version": "3.9.19"
  }
 },
 "nbformat": 4,
 "nbformat_minor": 5
}
