{
 "cells": [
  {
   "cell_type": "code",
   "execution_count": 1,
   "id": "bbed9f9c-ec81-4632-8ee8-45c7eb223476",
   "metadata": {
    "tags": []
   },
   "outputs": [],
   "source": [
    "import os \n",
    "import sys\n",
    "\n",
    "import healpy as hp\n",
    "import matplotlib.pyplot as plt\n",
    "import numpy as np\n",
    "\n",
    "import toast\n",
    "\n",
    "import scipy.signal as si\n",
    "\n",
    "import pysm3\n",
    "import pysm3.units as usm\n",
    "\n",
    "import skytools\n",
    "\n",
    "import astropy.units as u \n",
    "import astropy as astro\n",
    "\n",
    "from scipy.optimize import curve_fit\n",
    "from scipy.linalg import sqrtm"
   ]
  },
  {
   "cell_type": "code",
   "execution_count": 2,
   "id": "35dedb7d-a060-4945-97c3-ef34f036943e",
   "metadata": {
    "tags": []
   },
   "outputs": [],
   "source": [
    "env = toast.utils.Environment.get()\n",
    "comm, procs, rank = toast.get_world()\n",
    "nthread = os.environ[\"OMP_NUM_THREADS\"]"
   ]
  },
  {
   "cell_type": "code",
   "execution_count": 3,
   "id": "e5167380-e995-4a5e-8913-78598cca658d",
   "metadata": {
    "tags": []
   },
   "outputs": [
    {
     "name": "stdout",
     "output_type": "stream",
     "text": [
      "Memory usage (whole node)\n",
      "       total :  503.138 GB\n",
      "   available :  191.898 GB\n",
      "     percent :   61.900 % \n",
      "        used :  265.445 GB\n",
      "        free :  184.952 GB\n",
      "      active :    9.900 GB\n",
      "    inactive :  229.789 GB\n",
      "     buffers :   15.941 MB\n",
      "      cached :   52.725 GB\n",
      "      shared :   16.395 GB\n",
      "        slab :   27.568 GB\n",
      "\n"
     ]
    }
   ],
   "source": [
    "mem = toast.utils.memreport(msg=\"(whole node)\", comm=comm, silent=False)"
   ]
  },
  {
   "cell_type": "code",
   "execution_count": 4,
   "id": "687f5694-b536-4a3e-9746-a1432bcce48a",
   "metadata": {
    "tags": []
   },
   "outputs": [],
   "source": [
    "def modulo_180(x):\n",
    "    if x>180:\n",
    "        return (x-360)\n",
    "    else:\n",
    "        return x"
   ]
  },
  {
   "cell_type": "code",
   "execution_count": 5,
   "id": "68865132-31b7-49f2-a93d-743a8d24cb9a",
   "metadata": {
    "tags": []
   },
   "outputs": [],
   "source": [
    "def modulo_360(x):\n",
    "    if x<0:\n",
    "        return (x+360)\n",
    "    else:\n",
    "        return x"
   ]
  },
  {
   "cell_type": "markdown",
   "id": "f1dc694b-3537-44c4-a866-9d26016da2cf",
   "metadata": {},
   "source": [
    "0. Read Planck map"
   ]
  },
  {
   "cell_type": "code",
   "execution_count": 6,
   "id": "a2e85502-0f39-40d1-a4d5-259dee837f67",
   "metadata": {
    "tags": []
   },
   "outputs": [],
   "source": [
    "NSIDE = 512\n",
    "lmax = 2*NSIDE"
   ]
  },
  {
   "cell_type": "code",
   "execution_count": 7,
   "id": "65b7a828-e66d-4841-a6f3-0e37127e2238",
   "metadata": {
    "tags": []
   },
   "outputs": [
    {
     "name": "stdout",
     "output_type": "stream",
     "text": [
      "0.0019986849764579854\n"
     ]
    }
   ],
   "source": [
    "resol = hp.nside2resol(nside=NSIDE)\n",
    "amin2rad = np.pi/(60*180)\n",
    "\n",
    "resol_amin = resol*amin2rad\n",
    "\n",
    "print(resol)"
   ]
  },
  {
   "cell_type": "markdown",
   "id": "00a49ab8-8e17-44c7-b53b-acec2f270bca",
   "metadata": {},
   "source": [
    "Create a telescope and corresponding pointing"
   ]
  },
  {
   "cell_type": "markdown",
   "id": "aae797b9-a6f2-43b5-95db-2587293cfe01",
   "metadata": {},
   "source": [
    "1. Start by creating a focalplane with a sample rate and number of detectors"
   ]
  },
  {
   "cell_type": "code",
   "execution_count": 8,
   "id": "eb1d6227-2715-48c1-983d-e4efd50d15ee",
   "metadata": {},
   "outputs": [],
   "source": [
    "from toast.qarray import to_iso_angles, rotation, mult, to_lonlat_angles\n"
   ]
  },
  {
   "cell_type": "code",
   "execution_count": 98,
   "id": "723fca6f-8afc-498d-a1b6-d3790d3d0424",
   "metadata": {
    "tags": []
   },
   "outputs": [],
   "source": [
    "#xrot = rotation([0,1,0], np.pi/2)\n",
    "\n",
    "zrot = rotation([1,0,0], np.pi/2)\n"
   ]
  },
  {
   "cell_type": "code",
   "execution_count": 9,
   "id": "58386946-9512-4bf3-a9c7-c739c5cdddc7",
   "metadata": {
    "tags": []
   },
   "outputs": [],
   "source": [
    "from toast.instrument_sim import fake_hexagon_focalplane, plot_focalplane"
   ]
  },
  {
   "cell_type": "code",
   "execution_count": 10,
   "id": "93e7bdc5-c7dc-4879-acb9-48d8e3d54275",
   "metadata": {
    "tags": []
   },
   "outputs": [],
   "source": [
    "focalplane = toast.instrument.Focalplane(sample_rate=10*u.Hz#,thinfp=256\n",
    "                                        )\n",
    "##One fourth of total detectors in the focalplane\n",
    "## For S4, sample rate ~10-100\n",
    "\n",
    "with toast.io.H5File(\"focalplane_SAT3_SAT_f030.h5\", \"r\", comm=comm, force_serial=True) as f:\n",
    "            focalplane.load_hdf5(f.handle, comm=comm)"
   ]
  },
  {
   "cell_type": "code",
   "execution_count": 11,
   "id": "d7bb67e0-a01b-441f-9bae-495361aec9e3",
   "metadata": {
    "tags": []
   },
   "outputs": [],
   "source": [
    "iso_angles = np.array([np.degrees(to_iso_angles(mult(xrot,focalplane[detec][\"quat\"]))) for detec in focalplane.detectors])\n"
   ]
  },
  {
   "cell_type": "code",
   "execution_count": 12,
   "id": "452a907f-52d0-4b52-a40d-d97d87bd726b",
   "metadata": {
    "tags": []
   },
   "outputs": [
    {
     "data": {
      "text/plain": [
       "array([[  88.08882932,    1.94993571,   22.5       ],\n",
       "       [  88.08882932,    1.94993571,  112.5       ],\n",
       "       [  90.        ,    3.05321419,   67.5       ],\n",
       "       [  90.        ,    3.05321419,  157.5       ],\n",
       "       [  90.        ,    0.84665724,   67.5       ],\n",
       "       [  90.        ,    0.84665724,  157.5       ],\n",
       "       [  91.91117068,    1.94993571,   22.5       ],\n",
       "       [  91.91117068,    1.94993571,  112.5       ],\n",
       "       [  88.89786687,    7.17209843,  -97.5670297 ],\n",
       "       [  88.89786687,    7.17209843,   -7.5670297 ],\n",
       "       [  88.89628048,    4.96503074,  -52.50613882],\n",
       "       [  88.89628048,    4.96503074,   37.49386118],\n",
       "       [  86.9857875 ,    6.06983805,  -52.54583908],\n",
       "       [  86.9857875 ,    6.06983805,   37.45416092],\n",
       "       [  86.98572831,    3.86012121,  -97.44803143],\n",
       "       [  86.98572831,    3.86012121,   -7.44803143],\n",
       "       [  93.01427169,    3.86012121,  142.44803143],\n",
       "       [  93.01427169,    3.86012121, -127.55196857],\n",
       "       [  91.10371952,    4.96503074, -172.49386118],\n",
       "       [  91.10371952,    4.96503074,  -82.49386118],\n",
       "       [  93.0142125 ,    6.06983805, -172.45416092],\n",
       "       [  93.0142125 ,    6.06983805,  -82.45416092],\n",
       "       [  91.10213313,    7.17209843,  142.5670297 ],\n",
       "       [  91.10213313,    7.17209843, -127.4329703 ],\n",
       "       [  83.78902672,   -5.58231042,   22.96390191],\n",
       "       [  83.78902672,   -5.58231042,  112.96390191],\n",
       "       [  85.69202875,   -4.46042703,   67.8794485 ],\n",
       "       [  85.69202875,   -4.46042703,  157.8794485 ],\n",
       "       [  85.70983834,   -6.67313868,   68.04533936],\n",
       "       [  85.70983834,   -6.67313868,  158.04533936],\n",
       "       [  87.61124351,   -5.55135879,   22.96157997],\n",
       "       [  87.61124351,   -5.55135879,  112.96157997],\n",
       "       [  84.5737899 ,   -0.33117812,  -97.49845971],\n",
       "       [  84.5737899 ,   -0.33117812,   -7.49845971],\n",
       "       [  84.5780622 ,   -2.54775962,  -52.270505  ],\n",
       "       [  84.5780622 ,   -2.54775962,   37.729495  ],\n",
       "       [  82.66383894,   -1.44330608,  -52.39323679],\n",
       "       [  82.66383894,   -1.44330608,   37.60676321],\n",
       "       [  82.67288826,   -3.66813903,  -97.12768857],\n",
       "       [  82.67288826,   -3.66813903,   -7.12768857],\n",
       "       [  88.70133834,   -3.6344869 ,  142.76584005],\n",
       "       [  88.70133834,   -3.6344869 , -127.23415995],\n",
       "       [  86.78548264,   -2.53866931, -172.25891195],\n",
       "       [  86.78548264,   -2.53866931,  -82.25891195],\n",
       "       [  88.69224278,   -1.42727535, -172.30276838],\n",
       "       [  88.69224278,   -1.42727535,  -82.30276838],\n",
       "       [  86.77805458,   -0.32853659,  142.6354005 ],\n",
       "       [  86.77805458,   -0.32853659, -127.3645995 ],\n",
       "       [  79.44096507,    1.91030061,   22.86389596],\n",
       "       [  79.44096507,    1.91030061,  112.86389596],\n",
       "       [  81.34674569,    3.03853711,   67.69399299],\n",
       "       [  81.34674569,    3.03853711,  157.69399299],\n",
       "       [  81.36068004,    0.80665623,   68.02956221],\n",
       "       [  81.36068004,    0.80665623,  158.02956221],\n",
       "       [  83.26323017,    1.93472749,   22.86022104],\n",
       "       [  83.26323017,    1.93472749,  112.86022104],\n",
       "       [  80.25323169,    7.21325744,  -98.00118165],\n",
       "       [  80.25323169,    7.21325744,   -8.00118165],\n",
       "       [  80.24140964,    4.97426821,  -52.60345699],\n",
       "       [  80.24140964,    4.97426821,   37.39654301],\n",
       "       [  78.3344395 ,    6.10413141,  -52.8135045 ],\n",
       "       [  78.3344395 ,    6.10413141,   37.1864955 ],\n",
       "       [  78.33060909,    3.8509131 ,  -97.37617954],\n",
       "       [  78.33060909,    3.8509131 ,   -7.37617954],\n",
       "       [  84.35914782,    3.85849598,  142.51874062],\n",
       "       [  84.35914782,    3.85849598, -127.48125938],\n",
       "       [  82.44884552,    4.97048696, -172.59061023],\n",
       "       [  82.44884552,    4.97048696,  -82.59061023],\n",
       "       [  84.36279989,    6.07588419, -172.71757144],\n",
       "       [  84.36279989,    6.07588419,  -82.71757144],\n",
       "       [  82.45743504,    7.19641341,  142.13540998],\n",
       "       [  82.45743504,    7.19641341, -127.86459002],\n",
       "       [  83.76545589,    9.45670108,   22.39594219],\n",
       "       [  83.76545589,    9.45670108,  112.39594219],\n",
       "       [  85.67942388,   10.5596422 ,   67.31287861],\n",
       "       [  85.67942388,   10.5596422 ,  157.31287861],\n",
       "       [  85.67542902,    8.34679367,   67.47968516],\n",
       "       [  85.67542902,    8.34679367,  157.47968516],\n",
       "       [  87.58779098,    9.44975813,   22.39646588],\n",
       "       [  87.58779098,    9.44975813,  112.39646588],\n",
       "       [  84.58437499,   12.48328997,  -52.8381114 ],\n",
       "       [  84.58437499,   12.48328997,   37.1618886 ],\n",
       "       [  82.66824501,   11.38199326,  -97.69742992],\n",
       "       [  82.66824501,   11.38199326,   -7.69742992],\n",
       "       [  88.69673184,   11.35579377,  142.20060807],\n",
       "       [  88.69673184,   11.35579377, -127.79939193],\n",
       "       [  86.7917771 ,   12.4704832 , -172.82487069],\n",
       "       [  86.7917771 ,   12.4704832 ,  -82.82487069],\n",
       "       [  88.70940326,   13.56298219, -172.86775806],\n",
       "       [  88.70940326,   13.56298219,  -82.86775806],\n",
       "       [  92.41220902,    9.44975813,   22.60353412],\n",
       "       [  92.41220902,    9.44975813,  112.60353412],\n",
       "       [  94.32057612,   10.5596422 ,   67.68712139],\n",
       "       [  94.32057612,   10.5596422 ,  157.68712139],\n",
       "       [  94.32457098,    8.34679367,   67.52031484],\n",
       "       [  94.32457098,    8.34679367,  157.52031484],\n",
       "       [  96.23454411,    9.45670108,   22.60405781],\n",
       "       [  96.23454411,    9.45670108,  112.60405781],\n",
       "       [  93.2082229 ,   12.4704832 ,  -52.17512931],\n",
       "       [  93.2082229 ,   12.4704832 ,   37.82487069],\n",
       "       [  91.29059674,   13.56298219,  -52.13224194],\n",
       "       [  91.29059674,   13.56298219,   37.86775806],\n",
       "       [  91.30326816,   11.35579377,  -97.20060807],\n",
       "       [  91.30326816,   11.35579377,   -7.20060807],\n",
       "       [  97.33175499,   11.38199326,  142.69742992],\n",
       "       [  97.33175499,   11.38199326, -127.30257008],\n",
       "       [  95.41562501,   12.48328997, -172.1618886 ],\n",
       "       [  95.41562501,   12.48328997,  -82.1618886 ],\n",
       "       [  96.73676983,    1.93472749,   22.13977896],\n",
       "       [  96.73676983,    1.93472749,  112.13977896],\n",
       "       [  98.65325431,    3.03853711,   67.30600701],\n",
       "       [  98.65325431,    3.03853711,  157.30600701],\n",
       "       [  98.63931996,    0.80665623,   66.97043779],\n",
       "       [  98.63931996,    0.80665623,  156.97043779],\n",
       "       [ 100.55903493,    1.91030061,   22.13610404],\n",
       "       [ 100.55903493,    1.91030061,  112.13610404],\n",
       "       [  97.54256496,    7.19641341,  -97.13540998],\n",
       "       [  97.54256496,    7.19641341,   -7.13540998],\n",
       "       [  97.55115448,    4.97048696,  -52.40938977],\n",
       "       [  97.55115448,    4.97048696,   37.59061023],\n",
       "       [  95.63720011,    6.07588419,  -52.28242856],\n",
       "       [  95.63720011,    6.07588419,   37.71757144],\n",
       "       [  95.64085218,    3.85849598,  -97.51874062],\n",
       "       [  95.64085218,    3.85849598,   -7.51874062],\n",
       "       [ 101.66939091,    3.8509131 ,  142.37617954],\n",
       "       [ 101.66939091,    3.8509131 , -127.62382046],\n",
       "       [  99.75859036,    4.97426821, -172.39654301],\n",
       "       [  99.75859036,    4.97426821,  -82.39654301],\n",
       "       [ 101.6655605 ,    6.10413141, -172.1864955 ],\n",
       "       [ 101.6655605 ,    6.10413141,  -82.1864955 ],\n",
       "       [  99.74676831,    7.21325744,  143.00118165],\n",
       "       [  99.74676831,    7.21325744, -126.99881835],\n",
       "       [  92.38875649,   -5.55135879,   22.03842003],\n",
       "       [  92.38875649,   -5.55135879,  112.03842003],\n",
       "       [  94.30797125,   -4.46042703,   67.1205515 ],\n",
       "       [  94.30797125,   -4.46042703,  157.1205515 ],\n",
       "       [  94.29016166,   -6.67313868,   66.95466064],\n",
       "       [  94.29016166,   -6.67313868,  156.95466064],\n",
       "       [  96.21097328,   -5.58231042,   22.03609809],\n",
       "       [  96.21097328,   -5.58231042,  112.03609809],\n",
       "       [  93.22194542,   -0.32853659,  -97.6354005 ],\n",
       "       [  93.22194542,   -0.32853659,   -7.6354005 ],\n",
       "       [  93.21451736,   -2.53866931,  -52.74108805],\n",
       "       [  93.21451736,   -2.53866931,   37.25891195],\n",
       "       [  91.30775722,   -1.42727535,  -52.69723162],\n",
       "       [  91.30775722,   -1.42727535,   37.30276838],\n",
       "       [  91.29866166,   -3.6344869 ,  -97.76584005],\n",
       "       [  91.29866166,   -3.6344869 ,   -7.76584005],\n",
       "       [  97.32711174,   -3.66813903,  142.12768857],\n",
       "       [  97.32711174,   -3.66813903, -127.87231143],\n",
       "       [  95.4219378 ,   -2.54775962, -172.729495  ],\n",
       "       [  95.4219378 ,   -2.54775962,  -82.729495  ],\n",
       "       [  97.33616106,   -1.44330608, -172.60676321],\n",
       "       [  97.33616106,   -1.44330608,  -82.60676321],\n",
       "       [  95.4262101 ,   -0.33117812,  142.49845971],\n",
       "       [  95.4262101 ,   -0.33117812, -127.50154029],\n",
       "       [  81.47131364,  -12.06589446,   68.8278937 ],\n",
       "       [  81.47131364,  -12.06589446,  158.8278937 ],\n",
       "       [  83.40899623,  -13.13101417,   23.98644951],\n",
       "       [  83.40899623,  -13.13101417,  113.98644951],\n",
       "       [  80.29608108,   -7.91499314,  -96.85748248],\n",
       "       [  80.29608108,   -7.91499314,   -6.85748248],\n",
       "       [  80.32826115,  -10.15334236,  -51.46236366],\n",
       "       [  80.32826115,  -10.15334236,   38.53763634],\n",
       "       [  78.39948161,   -9.06277327,  -51.6636856 ],\n",
       "       [  78.39948161,   -9.06277327,   38.3363144 ],\n",
       "       [  84.46707435,  -11.1863942 ,  143.64700227],\n",
       "       [  84.46707435,  -11.1863942 , -126.35299773],\n",
       "       [  82.53533612,  -10.1127973 , -171.45612781],\n",
       "       [  82.53533612,  -10.1127973 ,  -81.45612781],\n",
       "       [  84.42720468,   -8.96969156, -171.58592426],\n",
       "       [  84.42720468,   -8.96969156,  -81.58592426],\n",
       "       [  82.50017932,   -7.88746761,  143.27245923],\n",
       "       [  82.50017932,   -7.88746761, -126.72754077],\n",
       "       [  77.0771882 ,   -4.60608598,   68.65915057],\n",
       "       [  77.0771882 ,   -4.60608598,  158.65915057],\n",
       "       [  77.13155696,   -6.86905639,   69.16425309],\n",
       "       [  77.13155696,   -6.86905639,  159.16425309],\n",
       "       [  79.01253624,   -5.68972968,   23.90206405],\n",
       "       [  79.01253624,   -5.68972968,  113.90206405],\n",
       "       [  75.92576133,   -0.3842067 ,  -97.35418977],\n",
       "       [  75.92576133,   -0.3842067 ,   -7.35418977],\n",
       "       [  75.94220401,   -2.65902057,  -51.7828484 ],\n",
       "       [  75.94220401,   -2.65902057,   38.2171516 ],\n",
       "       [  80.0760096 ,   -3.72633997,  143.41164805],\n",
       "       [  80.0760096 ,   -3.72633997, -126.58835195],\n",
       "       [  78.14946876,   -2.63055525, -171.77695306],\n",
       "       [  78.14946876,   -2.63055525,  -81.77695306],\n",
       "       [  80.04851862,   -1.48623693, -171.99339483],\n",
       "       [  80.04851862,   -1.48623693,  -81.99339483],\n",
       "       [  78.13001251,   -0.37584155,  142.77799151],\n",
       "       [  78.13001251,   -0.37584155, -127.22200849],\n",
       "       [ 100.98746376,   -5.68972968,   21.09793595],\n",
       "       [ 100.98746376,   -5.68972968,  111.09793595],\n",
       "       [ 102.9228118 ,   -4.60608598,   66.34084943],\n",
       "       [ 102.9228118 ,   -4.60608598,  156.34084943],\n",
       "       [ 102.86844304,   -6.86905639,   65.83574691],\n",
       "       [ 102.86844304,   -6.86905639,  155.83574691],\n",
       "       [ 101.86998749,   -0.37584155,  -97.77799151],\n",
       "       [ 101.86998749,   -0.37584155,   -7.77799151],\n",
       "       [ 101.85053124,   -2.63055525,  -53.22304694],\n",
       "       [ 101.85053124,   -2.63055525,   36.77695306],\n",
       "       [  99.95148138,   -1.48623693,  -53.00660517],\n",
       "       [  99.95148138,   -1.48623693,   36.99339483],\n",
       "       [  99.9239904 ,   -3.72633997,  -98.41164805],\n",
       "       [  99.9239904 ,   -3.72633997,   -8.41164805],\n",
       "       [ 104.05779599,   -2.65902057, -173.2171516 ],\n",
       "       [ 104.05779599,   -2.65902057,  -83.2171516 ],\n",
       "       [ 104.07423867,   -0.3842067 ,  142.35418977],\n",
       "       [ 104.07423867,   -0.3842067 , -127.64581023],\n",
       "       [  96.59100377,  -13.13101417,   21.01355049],\n",
       "       [  96.59100377,  -13.13101417,  111.01355049],\n",
       "       [  98.52868636,  -12.06589446,   66.1721063 ],\n",
       "       [  98.52868636,  -12.06589446,  156.1721063 ],\n",
       "       [  97.49982068,   -7.88746761,  -98.27245923],\n",
       "       [  97.49982068,   -7.88746761,   -8.27245923],\n",
       "       [  97.46466388,  -10.1127973 ,  -53.54387219],\n",
       "       [  97.46466388,  -10.1127973 ,   36.45612781],\n",
       "       [  95.57279532,   -8.96969156,  -53.41407574],\n",
       "       [  95.57279532,   -8.96969156,   36.58592426],\n",
       "       [  95.53292565,  -11.1863942 ,  -98.64700227],\n",
       "       [  95.53292565,  -11.1863942 ,   -8.64700227],\n",
       "       [  99.67173885,  -10.15334236, -173.53763634],\n",
       "       [  99.67173885,  -10.15334236,  -83.53763634],\n",
       "       [ 101.60051839,   -9.06277327, -173.3363144 ],\n",
       "       [ 101.60051839,   -9.06277327,  -83.3363144 ],\n",
       "       [  99.70391892,   -7.91499314,  141.85748248],\n",
       "       [  99.70391892,   -7.91499314, -128.14251752],\n",
       "       [  88.08882932,  -13.04167763,   22.5       ],\n",
       "       [  88.08882932,  -13.04167763,  112.5       ],\n",
       "       [  90.        ,  -11.93839915,   67.5       ],\n",
       "       [  90.        ,  -11.93839915,  157.5       ],\n",
       "       [  90.        ,  -14.14495611,   67.5       ],\n",
       "       [  90.        ,  -14.14495611,  157.5       ],\n",
       "       [  91.91117068,  -13.04167763,   22.5       ],\n",
       "       [  91.91117068,  -13.04167763,  112.5       ],\n",
       "       [  88.89786687,   -7.81951492,  -97.5670297 ],\n",
       "       [  88.89786687,   -7.81951492,   -7.5670297 ],\n",
       "       [  88.89628048,  -10.0265826 ,  -52.50613882],\n",
       "       [  88.89628048,  -10.0265826 ,   37.49386118],\n",
       "       [  86.9857875 ,   -8.9217753 ,  -52.54583908],\n",
       "       [  86.9857875 ,   -8.9217753 ,   37.45416092],\n",
       "       [  86.98572831,  -11.13149213,  -97.44803143],\n",
       "       [  86.98572831,  -11.13149213,   -7.44803143],\n",
       "       [  93.01427169,  -11.13149213,  142.44803143],\n",
       "       [  93.01427169,  -11.13149213, -127.55196857],\n",
       "       [  91.10371952,  -10.0265826 , -172.49386118],\n",
       "       [  91.10371952,  -10.0265826 ,  -82.49386118],\n",
       "       [  93.0142125 ,   -8.9217753 , -172.45416092],\n",
       "       [  93.0142125 ,   -8.9217753 ,  -82.45416092],\n",
       "       [  91.10213313,   -7.81951492,  142.5670297 ],\n",
       "       [  91.10213313,   -7.81951492, -127.4329703 ]])"
      ]
     },
     "execution_count": 12,
     "metadata": {},
     "output_type": "execute_result"
    }
   ],
   "source": [
    "#iso_angles"
   ]
  },
  {
   "cell_type": "code",
   "execution_count": 13,
   "id": "039b6351-7e15-4648-a3fb-c65e6a00ba16",
   "metadata": {
    "tags": []
   },
   "outputs": [],
   "source": [
    "focalplane._det_to_row = {'029_000_SAT_f030_A': 0}"
   ]
  },
  {
   "cell_type": "code",
   "execution_count": 14,
   "id": "a95c311e-bf71-4a98-8e07-1a1cbcb0cfc3",
   "metadata": {
    "tags": []
   },
   "outputs": [
    {
     "data": {
      "image/png": "[encoded data removed]",
      "text/plain": [
       "<Figure size 1100x1100 with 1 Axes>"
      ]
     },
     "metadata": {},
     "output_type": "display_data"
    },
    {
     "data": {
      "text/plain": [
       "<Figure size 640x480 with 0 Axes>"
      ]
     },
     "metadata": {},
     "output_type": "display_data"
    }
   ],
   "source": [
    "plot_focalplane(focalplane, width=10*u.degree, height = 10*u.degree)\n",
    "plt.savefig('two_detectors.png')"
   ]
  },
  {
   "cell_type": "markdown",
   "id": "6b24f2ce-e638-439d-8d69-0038f6b7cc28",
   "metadata": {},
   "source": [
    "Print schedule information"
   ]
  },
  {
   "cell_type": "code",
   "execution_count": 15,
   "id": "fc6b7712-e2fb-489e-bfa7-fd8673a753e9",
   "metadata": {
    "tags": []
   },
   "outputs": [
    {
     "name": "stdout",
     "output_type": "stream",
     "text": [
      "TOAST INFO: Loading schedule from POLE_DEEP_169-DEC0.txt\n",
      "TOAST INFO: Loaded 1 scans from POLE_DEEP_169-DEC0.txt totaling 84.0 minutes.\n"
     ]
    }
   ],
   "source": [
    "schedule = toast.schedule.GroundSchedule()\n",
    "schedule.read(\"POLE_DEEP_169-DEC0.txt\", comm=comm)"
   ]
  },
  {
   "cell_type": "code",
   "execution_count": 16,
   "id": "5e881f36-2652-4388-aeda-2ab283fa5d96",
   "metadata": {
    "tags": []
   },
   "outputs": [
    {
     "data": {
      "text/plain": [
       "<GroundSchedule site=SOUTH_POLE at -89.991 deg, -44.65 deg, 2843.0 m telescope SAT with 1 scans\n",
       "  <GroundScan 'POLE_DEEP' at 2000-01-01T12:00:00+00:00 with El = 54.52 deg, Az 118.39 deg -- 189.2 deg>\n",
       ">"
      ]
     },
     "execution_count": 16,
     "metadata": {},
     "output_type": "execute_result"
    }
   ],
   "source": [
    "schedule"
   ]
  },
  {
   "cell_type": "markdown",
   "id": "cfdcfb02-701d-4189-8a6f-ce3eb4c494b5",
   "metadata": {},
   "source": [
    "Print telescope information"
   ]
  },
  {
   "cell_type": "code",
   "execution_count": 17,
   "id": "705f90bc-5252-49e0-a21d-645ab1b5d2ac",
   "metadata": {
    "tags": []
   },
   "outputs": [
    {
     "data": {
      "text/plain": [
       "<Telescope 'My_telescope': uid = 3533178314, site = <GroundSite 'SOUTH_POLE' : uid = 588178429, lon = -44.64999999999998 deg, lat = -89.991 deg, alt = 2842.9999999993684 m, weather = None>, focalplane = <Focalplane: 252 detectors, sample_rate = 10.0 Hz, FOV = 29.77320077597548 deg, detectors = [029_000_SAT_f030_A .. 029_000_SAT_f030_A]>>"
      ]
     },
     "execution_count": 17,
     "metadata": {},
     "output_type": "execute_result"
    }
   ],
   "source": [
    "site = toast.instrument.GroundSite(\n",
    "        schedule.site_name,\n",
    "        schedule.site_lat,\n",
    "        schedule.site_lon,\n",
    "        schedule.site_alt,\n",
    "        weather=None,\n",
    "    )\n",
    "telescope = toast.instrument.Telescope(\n",
    "        \"My_telescope\", focalplane=focalplane, site=site\n",
    "    )\n",
    "\n",
    "telescope"
   ]
  },
  {
   "cell_type": "markdown",
   "id": "eca204bf-17b4-4499-9703-dac49ede4951",
   "metadata": {},
   "source": [
    "We can have multiple groups for parallel computing (start with one). Create a Data Instance and simulate a ground observation operator."
   ]
  },
  {
   "cell_type": "code",
   "execution_count": 18,
   "id": "02c2b8d6-5c3b-4f90-be07-a18fc123eebd",
   "metadata": {
    "tags": []
   },
   "outputs": [],
   "source": [
    "toast_comm = toast.Comm(world=comm, groupsize=1)"
   ]
  },
  {
   "cell_type": "code",
   "execution_count": 19,
   "id": "7b38775f-9684-42e8-b92a-663a76d0ea20",
   "metadata": {
    "tags": []
   },
   "outputs": [],
   "source": [
    "data = toast.Data(comm=toast_comm)"
   ]
  },
  {
   "cell_type": "code",
   "execution_count": 20,
   "id": "88a590fa-91a8-4ba0-bd3a-bf53c7be5e7f",
   "metadata": {
    "tags": []
   },
   "outputs": [],
   "source": [
    "sim_ground = toast.ops.SimGround(name=\"sim_ground\", \n",
    "                                 weather=\"south_pole\", \n",
    "                                 detset_key=\"pixel\", \n",
    "                                 telescope = telescope, \n",
    "                                 schedule = schedule\n",
    "                                ) ##simulate motion of the boresight"
   ]
  },
  {
   "cell_type": "code",
   "execution_count": 21,
   "id": "c7f65bc6-3ff9-4a57-a224-9871a4459975",
   "metadata": {
    "tags": []
   },
   "outputs": [],
   "source": [
    "sim_ground.apply(data)"
   ]
  },
  {
   "cell_type": "markdown",
   "id": "af5bde7e-c100-410d-a454-666b566769cc",
   "metadata": {},
   "source": [
    "1. Create a focalplane with only two detectors in the same row with the same polarization\n",
    "2. Two timestreams and see where scans overlap (?)\n",
    "3. Fit a step function and substract it. How to adjust level at the end of overlap?\n",
    "4. bin "
   ]
  },
  {
   "cell_type": "code",
   "execution_count": 22,
   "id": "c671f6df-af52-414b-a48d-26956ce08766",
   "metadata": {},
   "outputs": [],
   "source": [
    "pointing = toast.ops.PointingDetectorSimple() ##boresight pointing into detector frame (RA/DEC by default)\n",
    "pointing.apply(data)"
   ]
  },
  {
   "cell_type": "markdown",
   "id": "28989ed4-0d7d-4dee-b363-5ff5a123aebe",
   "metadata": {},
   "source": [
    "2. Noise simulation"
   ]
  },
  {
   "cell_type": "code",
   "execution_count": 23,
   "id": "3f7edf03-bd69-4c89-8697-a12798105bba",
   "metadata": {
    "tags": []
   },
   "outputs": [],
   "source": [
    "ob = data.obs[0]"
   ]
  },
  {
   "cell_type": "code",
   "execution_count": 24,
   "id": "c0db3bde-96f7-4a7e-8865-322c5466e533",
   "metadata": {},
   "outputs": [],
   "source": [
    "#weights = toast.ops.StokesWeights(detector_pointing = pointing,mode = \"I\")\n",
    "#pixels = toast.ops.PixelsHealpix(detector_pointing = pointing, nside = NSIDE)"
   ]
  },
  {
   "cell_type": "code",
   "execution_count": 25,
   "id": "f67c11b5-5ed7-4635-a62b-69c8706a9483",
   "metadata": {
    "tags": []
   },
   "outputs": [],
   "source": [
    "#scan_map = toast.ops.ScanHealpixMap(name=\"scan_healpix_map\", file='cmb_030_GC_nside_I.FITS',pixel_pointing = pixels, stokes_weights = weights)\n",
    "#scan_map.save_pointing = True#\n",
    "#scan_map.apply(data)"
   ]
  },
  {
   "cell_type": "code",
   "execution_count": 38,
   "id": "0687d093-6be0-42b5-87dd-0c8b22ab89df",
   "metadata": {
    "tags": []
   },
   "outputs": [],
   "source": [
    "quats = ob.detdata['quats'][0]"
   ]
  },
  {
   "cell_type": "code",
   "execution_count": 39,
   "id": "967a6e11-94ad-4471-8ef4-4a85e8eeb062",
   "metadata": {
    "tags": []
   },
   "outputs": [
    {
     "data": {
      "text/plain": [
       "(50400, 4)"
      ]
     },
     "execution_count": 39,
     "metadata": {},
     "output_type": "execute_result"
    }
   ],
   "source": [
    "quats.shape"
   ]
  },
  {
   "cell_type": "code",
   "execution_count": 47,
   "id": "317fad2e-27d6-4e6c-85ff-0ead5dadcd05",
   "metadata": {
    "tags": []
   },
   "outputs": [],
   "source": [
    "quats_1 = ob.detdata['quats'][0]"
   ]
  },
  {
   "cell_type": "code",
   "execution_count": 66,
   "id": "c21ca834-3bd3-42cd-b2a2-765774fe0005",
   "metadata": {
    "tags": []
   },
   "outputs": [],
   "source": [
    "boresight_radec = ob.shared['boresight_radec']\n",
    "boresight_azel = ob.shared['boresight_azel']"
   ]
  },
  {
   "cell_type": "code",
   "execution_count": 65,
   "id": "e6b145cc-7940-4780-a679-05e22e127345",
   "metadata": {
    "tags": []
   },
   "outputs": [
    {
     "data": {
      "text/plain": [
       "<SharedDataManager\n",
       "    times (column): shape=(50400,), dtype=float64\n",
       "    position (column): shape=(50400, 3), dtype=float64\n",
       "    velocity (column): shape=(50400, 3), dtype=float64\n",
       "    azimuth (column): shape=(50400,), dtype=float64\n",
       "    elevation (column): shape=(50400,), dtype=float64\n",
       "    boresight_azel (column): shape=(50400, 4), dtype=float64\n",
       "    boresight_radec (column): shape=(50400, 4), dtype=float64\n",
       "    flags (column): shape=(50400,), dtype=uint8>"
      ]
     },
     "execution_count": 65,
     "metadata": {},
     "output_type": "execute_result"
    }
   ],
   "source": [
    "ob.shared"
   ]
  },
  {
   "cell_type": "code",
   "execution_count": 89,
   "id": "7d26bf77-1adb-4690-b348-71092f104102",
   "metadata": {
    "tags": []
   },
   "outputs": [],
   "source": [
    "time = ob.shared['times']"
   ]
  },
  {
   "cell_type": "code",
   "execution_count": 60,
   "id": "6cb0dccc-78ce-4f44-b201-74a8f1684cc8",
   "metadata": {
    "tags": []
   },
   "outputs": [],
   "source": [
    "#iso_radec = np.degrees(to_iso_angles(mult(xrot,boresight_radec)))\n",
    "iso_radec = np.degrees(to_iso_angles(mult(xrot,boresight_radec)))"
   ]
  },
  {
   "cell_type": "code",
   "execution_count": 99,
   "id": "2f31da64-b3b6-45b6-bab6-2768183ca9c6",
   "metadata": {
    "tags": []
   },
   "outputs": [],
   "source": [
    "iso_azel = np.degrees(to_lonlat_angles(mult(zrot,boresight_azel)))"
   ]
  },
  {
   "cell_type": "code",
   "execution_count": 85,
   "id": "d250738e-5a2e-4c6b-8c10-55279d0c1713",
   "metadata": {
    "tags": []
   },
   "outputs": [],
   "source": [
    "iso_angpix1 = np.degrees(to_lonlat_angles(quats_1))\n"
   ]
  },
  {
   "cell_type": "code",
   "execution_count": 86,
   "id": "12887041-859f-4d2b-9fd7-38c92766e8ab",
   "metadata": {
    "tags": []
   },
   "outputs": [],
   "source": [
    "phi1,th1,psi1 = iso_angpix1\n"
   ]
  },
  {
   "cell_type": "code",
   "execution_count": 87,
   "id": "e1085e14-be88-42a5-85f7-caf76225f62b",
   "metadata": {
    "tags": []
   },
   "outputs": [
    {
     "data": {
      "text/plain": [
       "array([[  -9.32666841,   -9.1539472 ,   -8.9812259 , ...,   72.05957355,\n",
       "          71.88766857,   71.7157634 ],\n",
       "       [ -56.38544144,  -56.38546106,  -56.38548065, ...,  -56.38978345,\n",
       "         -56.38977937,  -56.38977523],\n",
       "       [-160.38045818, -160.38044145, -160.38042462, ..., -160.37108666,\n",
       "        -160.37112696, -160.37116724]])"
      ]
     },
     "execution_count": 87,
     "metadata": {},
     "output_type": "execute_result"
    }
   ],
   "source": [
    "iso_angpix1"
   ]
  },
  {
   "cell_type": "code",
   "execution_count": 100,
   "id": "6341fd8c-f3f8-47ef-958d-bc3fbdd10fea",
   "metadata": {
    "tags": []
   },
   "outputs": [
    {
     "data": {
      "text/plain": [
       "array([[-108.72149833, -108.81826723, -108.91476686, ..., -125.4731472 ,\n",
       "        -125.47119266, -125.46899317],\n",
       "       [ -30.70464938,  -30.64921208,  -30.59349974, ...,   -0.74808422,\n",
       "          -0.848065  ,   -0.94804081],\n",
       "       [ -33.57269242,  -33.76236207,  -33.95181381, ...,  -88.9503315 ,\n",
       "         -88.81000598,  -88.66967304]])"
      ]
     },
     "execution_count": 100,
     "metadata": {},
     "output_type": "execute_result"
    }
   ],
   "source": [
    "iso_azel"
   ]
  },
  {
   "cell_type": "code",
   "execution_count": 79,
   "id": "13dc04e2-0e4c-472b-8073-260c08ff00c7",
   "metadata": {
    "tags": []
   },
   "outputs": [
    {
     "data": {
      "text/plain": [
       "(array([    0,     1,     2, ..., 50397, 50398, 50399]),)"
      ]
     },
     "execution_count": 79,
     "metadata": {},
     "output_type": "execute_result"
    }
   ],
   "source": [
    "np.where(np.abs(iso_azel[2,:])<1e-6)"
   ]
  },
  {
   "cell_type": "code",
   "execution_count": 84,
   "id": "c3308d19-7dc7-44a1-9367-cdebb6cfd633",
   "metadata": {
    "tags": []
   },
   "outputs": [
    {
     "data": {
      "text/plain": [
       "(array([], dtype=int64),)"
      ]
     },
     "execution_count": 84,
     "metadata": {},
     "output_type": "execute_result"
    }
   ],
   "source": [
    "np.where(np.abs(iso_azel[2,:])>1e-7)"
   ]
  },
  {
   "cell_type": "raw",
   "id": "512bc898-7d50-4144-a154-5c63b9c17f16",
   "metadata": {
    "tags": []
   },
   "source": [
    "diff_el = np.degrees(ob.shared['elevation'])-iso_azel[1]"
   ]
  },
  {
   "cell_type": "code",
   "execution_count": 74,
   "id": "b953a261-c07b-45b3-934d-eb00b98647cd",
   "metadata": {
    "tags": []
   },
   "outputs": [
    {
     "name": "stdout",
     "output_type": "stream",
     "text": [
      "[-7.10542736e-15 -7.10542736e-15 -7.10542736e-15 ... -1.42108547e-14\n",
      " -7.10542736e-15 -7.10542736e-15]\n"
     ]
    }
   ],
   "source": [
    "print(diff_el)"
   ]
  },
  {
   "cell_type": "code",
   "execution_count": 75,
   "id": "3ff65c1c-574a-4406-9f3a-501054052b7d",
   "metadata": {
    "tags": []
   },
   "outputs": [
    {
     "data": {
      "text/plain": [
       "2.9592235990475098e-15"
      ]
     },
     "execution_count": 75,
     "metadata": {},
     "output_type": "execute_result"
    }
   ],
   "source": [
    "np.std(diff_el)"
   ]
  },
  {
   "cell_type": "code",
   "execution_count": 102,
   "id": "92d9aac2-12eb-486f-906f-9102b8b6db27",
   "metadata": {
    "tags": []
   },
   "outputs": [
    {
     "data": {
      "image/png": "[encoded data removed]",
      "text/plain": [
       "<Figure size 640x480 with 1 Axes>"
      ]
     },
     "metadata": {},
     "output_type": "display_data"
    }
   ],
   "source": [
    "plt.plot(time[:10000],iso_angpix1[1][:10000])\n",
    "plt.show()"
   ]
  },
  {
   "cell_type": "code",
   "execution_count": 103,
   "id": "dc66fda4-7877-40aa-b2e7-ed04f196745d",
   "metadata": {
    "tags": []
   },
   "outputs": [],
   "source": [
    "peak1 = np.max(iso_angpix1[1][:1000])"
   ]
  },
  {
   "cell_type": "code",
   "execution_count": 109,
   "id": "60349524-b457-42c9-a642-9866606cb74d",
   "metadata": {
    "tags": []
   },
   "outputs": [],
   "source": [
    "xpeak1 = np.where(iso_angpix1[1][:1000]==peak1)[0][0]"
   ]
  },
  {
   "cell_type": "code",
   "execution_count": 104,
   "id": "755790e8-716e-4f83-bfd0-e90fcae9d192",
   "metadata": {
    "tags": []
   },
   "outputs": [
    {
     "data": {
      "text/plain": [
       "-56.38525941360926"
      ]
     },
     "execution_count": 104,
     "metadata": {},
     "output_type": "execute_result"
    }
   ],
   "source": [
    "peak1"
   ]
  },
  {
   "cell_type": "code",
   "execution_count": 110,
   "id": "1ac64619-c998-4369-b2e6-f99d45088895",
   "metadata": {
    "tags": []
   },
   "outputs": [
    {
     "data": {
      "text/plain": [
       "874"
      ]
     },
     "execution_count": 110,
     "metadata": {},
     "output_type": "execute_result"
    }
   ],
   "source": [
    "xpeak1"
   ]
  },
  {
   "cell_type": "code",
   "execution_count": 111,
   "id": "7ed853f1-5387-42bf-b8e0-56fff743fb92",
   "metadata": {
    "tags": []
   },
   "outputs": [],
   "source": [
    "peakf = np.max(iso_angpix1[1])"
   ]
  },
  {
   "cell_type": "code",
   "execution_count": 112,
   "id": "64793366-10c1-44f5-87de-4cd4880b9c19",
   "metadata": {
    "tags": []
   },
   "outputs": [],
   "source": [
    "xpeakf = np.where(iso_angpix1[1]==peakf)[0][0]"
   ]
  },
  {
   "cell_type": "code",
   "execution_count": 113,
   "id": "c9fd0f51-4581-4470-aaca-1c280612dedd",
   "metadata": {
    "tags": []
   },
   "outputs": [
    {
     "name": "stdout",
     "output_type": "stream",
     "text": [
      "-56.38469006768078 49873\n"
     ]
    }
   ],
   "source": [
    "print(peakf,xpeakf)"
   ]
  },
  {
   "cell_type": "code",
   "execution_count": 115,
   "id": "595a924e-47c9-4d00-8cd1-e76f21bfc819",
   "metadata": {
    "tags": []
   },
   "outputs": [],
   "source": [
    "drift = (peakf-peak1)/(time[xpeakf]-time[xpeak1])"
   ]
  },
  {
   "cell_type": "code",
   "execution_count": 118,
   "id": "c1b1ca4f-9823-446a-941b-2d77e4d18c34",
   "metadata": {
    "tags": []
   },
   "outputs": [
    {
     "data": {
      "text/plain": [
       "3.6668485219649183"
      ]
     },
     "execution_count": 118,
     "metadata": {},
     "output_type": "execute_result"
    }
   ],
   "source": [
    "drift*3600*365.25*24"
   ]
  },
  {
   "cell_type": "code",
   "execution_count": 119,
   "id": "817e22ec-8377-4cc1-bf5c-21f1aafaed52",
   "metadata": {
    "tags": []
   },
   "outputs": [
    {
     "data": {
      "text/plain": [
       "98.17694890954762"
      ]
     },
     "execution_count": 119,
     "metadata": {},
     "output_type": "execute_result"
    }
   ],
   "source": [
    "360/3.6668485219649183"
   ]
  },
  {
   "cell_type": "code",
   "execution_count": null,
   "id": "6a75efbf-c517-4a91-a965-71fa13c81103",
   "metadata": {},
   "outputs": [],
   "source": []
  }
 ],
 "metadata": {
  "kernelspec": {
   "display_name": "Toastdev",
   "language": "python",
   "name": "toastdev"
  },
  "language_info": {
   "codemirror_mode": {
    "name": "ipython",
    "version": 3
   },
   "file_extension": ".py",
   "mimetype": "text/x-python",
   "name": "python",
   "nbconvert_exporter": "python",
   "pygments_lexer": "ipython3",
   "version": "3.9.19"
  }
 },
 "nbformat": 4,
 "nbformat_minor": 5
}
